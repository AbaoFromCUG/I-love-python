{
 "cells": [
  {
   "cell_type": "markdown",
   "metadata": {},
   "source": [
    "### 列表"
   ]
  },
  {
   "cell_type": "code",
   "execution_count": 3,
   "metadata": {},
   "outputs": [
    {
     "name": "stdout",
     "output_type": "stream",
     "text": [
      "<class 'list'>\n",
      "<class 'numpy.ndarray'>\n",
      "(2, 3)\n",
      "2\n",
      "float64\n",
      "8\n",
      "6\n"
     ]
    }
   ],
   "source": [
    "import numpy as np\n",
    "lst=[[1,2,4],[2,3,4]]\n",
    "print(type(lst))\n",
    "np_lst=np.array(lst)\n",
    "print(type(np_lst))\n",
    "### 数据类型有 bool int  int8  int16 int32 int64 int128 uint8 uint16  uint 32\n",
    "### uint64 uint128 float float16/32 \n",
    "np_lst=np.array(lst,dtype=np.float)\n",
    "print(np_lst.shape)\n",
    "print(np_lst.ndim)\n",
    "print(np_lst.dtype)\n",
    "print(np_lst.itemsize)\n",
    "print(np_lst.size)"
   ]
  },
  {
   "cell_type": "code",
   "execution_count": 26,
   "metadata": {
    "scrolled": false
   },
   "outputs": [
    {
     "name": "stdout",
     "output_type": "stream",
     "text": [
      "[[False False False]\n",
      " [False False False]]\n",
      "[[ 1.  1.  1.]\n",
      " [ 1.  1.  1.]]\n",
      "[[ 0.10029621  0.53286125  0.19730872]\n",
      " [ 0.13604212  0.10110807  0.38361104]]\n",
      "[[-1.04377564  0.91214243  0.13395697  1.29404972]\n",
      " [ 0.44527441  0.4700386  -0.0889599  -1.43275597]]\n",
      "23\n"
     ]
    }
   ],
   "source": [
    "print(np.zeros([2,3],dtype=np.bool))\n",
    "print(np.ones([2,3]))\n",
    "print(np.random.rand(2,3))\n",
    "#print(np.random.randint(2,3,3))\n",
    "print(np.random.randn(2,4))\n",
    "print(np.random.choice([10,23,133,333]))"
   ]
  }
 ],
 "metadata": {
  "kernelspec": {
   "display_name": "Python 3",
   "language": "python",
   "name": "python3"
  },
  "language_info": {
   "codemirror_mode": {
    "name": "ipython",
    "version": 3
   },
   "file_extension": ".py",
   "mimetype": "text/x-python",
   "name": "python",
   "nbconvert_exporter": "python",
   "pygments_lexer": "ipython3",
   "version": "3.6.1"
  }
 },
 "nbformat": 4,
 "nbformat_minor": 2
}
