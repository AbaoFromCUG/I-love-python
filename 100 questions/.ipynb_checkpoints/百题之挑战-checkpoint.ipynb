{
 "cells": [
  {
   "cell_type": "markdown",
   "metadata": {},
   "source": [
    "【程序 1】 \n",
    "题目：有 1、2、3、4 个数字，能组成多少个互不相同且无重复数字的三位数？都是多\n",
    "少？ "
   ]
  },
  {
   "cell_type": "code",
   "execution_count": 1,
   "metadata": {},
   "outputs": [
    {
     "name": "stdout",
     "output_type": "stream",
     "text": [
      "123\n",
      "124\n",
      "132\n",
      "134\n",
      "142\n",
      "143\n",
      "213\n",
      "214\n",
      "231\n",
      "234\n",
      "241\n",
      "243\n",
      "312\n",
      "314\n",
      "321\n",
      "324\n",
      "341\n",
      "342\n",
      "412\n",
      "413\n",
      "421\n",
      "423\n",
      "431\n",
      "432\n",
      "24\n"
     ]
    }
   ],
   "source": [
    "t=0\n",
    "for a in range(1,5):\n",
    "    for b in range(1,5):\n",
    "        for c in range(1,5):\n",
    "            if a!=b and a!=c and b!=c:\n",
    "                print a*100+b*10+c\n",
    "                t=t+1\n",
    "print t;"
   ]
  },
  {
   "cell_type": "markdown",
   "metadata": {},
   "source": [
    "【程序 2】 \n",
    "题目：企业发放的奖金根据利润提成。利润 (I) ： \n",
    "低于或等于 10 万元时，奖金可提 10%； \n",
    "高于 10万元，低于 20 万元时，低于 10 万元的部分按 10%提成，高于 10\n",
    "万元的部分，可提成 7.5%； \n",
    "20 万到 40 万之间时，高于 20 万元的部分，可提成 5%； \n",
    "40 万到 60 万之间时，高于 40 万元的部分，可提成 3%； \n",
    "60 万到 100 万之间时，高于 60万元的部分，可提成 1.5%， \n",
    "高于 100万元时， \n",
    "超过 100万元的部分按 1%提成， \n",
    "从键盘输入当月利润 I ，求应发放奖金总数？"
   ]
  },
  {
   "cell_type": "code",
   "execution_count": 2,
   "metadata": {},
   "outputs": [
    {
     "name": "stdout",
     "output_type": "stream",
     "text": [
      "Input How much money is it?\n",
      "60\n",
      "得到的钱6.0\n"
     ]
    }
   ],
   "source": [
    "money=int(raw_input(\"Input How much money is it?\\n\"))\n",
    "getMoney=0\n",
    "if money<=10:\n",
    "    getMoney=money*0.1\n",
    "elif money<20:\n",
    "    getMoney=10*0.1+(money-10)*0.075\n",
    "elif money<40:\n",
    "    getMoney=20*0.1+(money-20)*0.05\n",
    "elif money<60:\n",
    "    getMoney=40*0.1+(money-40)*0.03\n",
    "elif money<100:\n",
    "    getMoney=60*0.1+(money-60)*0.015\n",
    "else :\n",
    "    getMoney=100*0.1+(money-100)*0.01\n",
    "print \"得到的钱{0}\".format(getMoney)"
   ]
  },
  {
   "cell_type": "markdown",
   "metadata": {
    "collapsed": true
   },
   "source": [
    "【程序 3】 \n",
    "题目：一个整数，它加上 100 后是一个完全平方数，再加上 168 又是一个完全平方数，\n",
    "请问该数是多少？ "
   ]
  },
  {
   "cell_type": "code",
   "execution_count": 4,
   "metadata": {},
   "outputs": [
    {
     "name": "stdout",
     "output_type": "stream",
     "text": [
      "156\n"
     ]
    }
   ],
   "source": [
    "import math\n",
    "i=1\n",
    "while True:\n",
    "    i=i+1\n",
    "    if math.sqrt(i+100)==(int(math.sqrt(i+100))):\n",
    "        if math.sqrt(i+168)==(int(math.sqrt(i+168))):\n",
    "            break\n",
    "print i"
   ]
  },
  {
   "cell_type": "markdown",
   "metadata": {},
   "source": [
    "【程序 4】 \n",
    "题目：输入某年某月某日，判断这一天是这一年的第几天？ "
   ]
  },
  {
   "cell_type": "code",
   "execution_count": 5,
   "metadata": {},
   "outputs": [
    {
     "name": "stdout",
     "output_type": "stream",
     "text": [
      "please input year\n",
      "2012\n",
      "please input month\n",
      "12\n",
      "please input day\n",
      "1\n",
      "这是第336天\n"
     ]
    }
   ],
   "source": [
    "year=int(raw_input(\"please input year\\n\"))\n",
    "month=int(raw_input(\"please input month\\n\"))\n",
    "day=int(raw_input(\"please input day\\n\"))\n",
    "secondmonth=28\n",
    "if (year % 4) == 0:\n",
    "   if (year % 100) == 0:\n",
    "       if (year % 400) == 0:\n",
    "           secondmonth=29   # 整百年能被400整除的是闰年\n",
    "       else:\n",
    "           secondmonth=28\n",
    "   else:\n",
    "       secondmonth=29       # 非整百年能被4整除的为闰年\n",
    "else:\n",
    "   secondmonth=28\n",
    "days=0\n",
    "if(month==1):\n",
    "    days=days+day\n",
    "if(month>=2):\n",
    "    days=day+31\n",
    "if(month>=3):\n",
    "    days=days+secondmonth\n",
    "if(month>=4):\n",
    "    days=days+31\n",
    "if(month>=5):\n",
    "    days=days+30\n",
    "if(month>=6):\n",
    "    days=days+31\n",
    "if(month>=7):\n",
    "    days=days+30\n",
    "if(month>=8):\n",
    "    days=days+31\n",
    "if(month>=9):\n",
    "    days=days+31\n",
    "if(month>=10):\n",
    "    days=days+30\n",
    "if(month>=11):\n",
    "    days=days+31\n",
    "if(month>=12):\n",
    "    days=days+30\n",
    "print \"这是第{0}天\".format(days)"
   ]
  },
  {
   "cell_type": "markdown",
   "metadata": {},
   "source": [
    "【程序 5】 \n",
    "题目：输入三个整数 x，y，z，请把这三个数由小到大输出"
   ]
  },
  {
   "cell_type": "code",
   "execution_count": 6,
   "metadata": {},
   "outputs": [
    {
     "name": "stdout",
     "output_type": "stream",
     "text": [
      "please input x: 1\n",
      "please input y: 3\n",
      "please input z: 2\n",
      "x:  1 z:  2 y:  3\n"
     ]
    }
   ],
   "source": [
    "x=int(raw_input(\"please input x: \"))\n",
    "y=int(raw_input(\"please input y: \"))\n",
    "z=int(raw_input(\"please input z: \"))\n",
    "if x<y:\n",
    "    if y<z:\n",
    "        print \"x: \", x, \"< y: \",y,\"<z: \",z\n",
    "    else :\n",
    "         print \"x: \",x,\"z: \",z, \"y: \",y\n",
    "else:\n",
    "     if x<z:\n",
    "        print \" y: \",y,\"<x: \",x, \"<z: \",z\n",
    "     else :\n",
    "         print \"z: \",z, \"y: \",y,\"x: \",x"
   ]
  },
  {
   "cell_type": "markdown",
   "metadata": {
    "collapsed": true
   },
   "source": [
    "【程序 6】 \n",
    "题目：用 *号输出字母 C的图案\n"
   ]
  },
  {
   "cell_type": "markdown",
   "metadata": {},
   "source": [
    "s=r'''\n",
    "        ****\n",
    "      **\n",
    "     **\n",
    "     *\n",
    "     *\n",
    "     **\n",
    "      **\n",
    "        **\n",
    "         ******\n",
    "\n",
    "'''\n",
    "print s"
   ]
  },
  {
   "cell_type": "markdown",
   "metadata": {},
   "source": [
    "【程序 7】 \n",
    "题目：输出特殊图案，请在 c 环境中运行，看一看， Very Beautiful!"
   ]
  },
  {
   "cell_type": "markdown",
   "metadata": {},
   "source": [
    "【程序 8】 \n",
    "题目：输出 9*9 口诀表。 "
   ]
  },
  {
   "cell_type": "code",
   "execution_count": 1,
   "metadata": {
    "scrolled": true
   },
   "outputs": [
    {
     "ename": "SyntaxError",
     "evalue": "invalid syntax (<ipython-input-1-2946c4e8c919>, line 4)",
     "output_type": "error",
     "traceback": [
      "\u001b[1;36m  File \u001b[1;32m\"<ipython-input-1-2946c4e8c919>\"\u001b[1;36m, line \u001b[1;32m4\u001b[0m\n\u001b[1;33m    num++\u001b[0m\n\u001b[1;37m         ^\u001b[0m\n\u001b[1;31mSyntaxError\u001b[0m\u001b[1;31m:\u001b[0m invalid syntax\n"
     ]
    }
   ],
   "source": [
    "num=1\n",
    "for x in range(1,10):\n",
    "    while num<=x:\n",
    "        num=num+1\n",
    "        pass"
   ]
  },
  {
   "cell_type": "code",
   "execution_count": null,
   "metadata": {
    "collapsed": true
   },
   "outputs": [],
   "source": []
  }
 ],
 "metadata": {
  "kernelspec": {
   "display_name": "Python 2",
   "language": "python",
   "name": "python2"
  },
  "language_info": {
   "codemirror_mode": {
    "name": "ipython",
    "version": 2
   },
   "file_extension": ".py",
   "mimetype": "text/x-python",
   "name": "python",
   "nbconvert_exporter": "python",
   "pygments_lexer": "ipython2",
   "version": "2.7.13"
  }
 },
 "nbformat": 4,
 "nbformat_minor": 2
}
