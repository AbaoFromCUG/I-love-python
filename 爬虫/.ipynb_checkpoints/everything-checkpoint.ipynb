{
 "cells": [
  {
   "cell_type": "markdown",
   "metadata": {},
   "source": [
    "## 啪啪啪"
   ]
  },
  {
   "cell_type": "code",
   "execution_count": 1,
   "metadata": {
    "collapsed": true
   },
   "outputs": [],
   "source": [
    "import urllib.request\n",
    "import socket\n",
    "import os\n",
    "import re\n"
   ]
  },
  {
   "cell_type": "code",
   "execution_count": 8,
   "metadata": {},
   "outputs": [
    {
     "name": "stdout",
     "output_type": "stream",
     "text": [
      "test\n"
     ]
    }
   ],
   "source": [
    "def getApath(fileUrl,localpath):\n",
    "    if not os.path.isdir(localpath):\n",
    "        os.mkdir(localpath)\n",
    "    a=fileUrl.rindex(\"/\");\n",
    "    filepath=os.path.join(localpath,fileUrl[a+1:])\n",
    "    return filepath\n",
    "#读取一个url页面并返回页面html数据\n",
    "def url_reader(url):\n",
    "    req = urllib.request.Request(url)\n",
    "    req.add_header('User-Agent','Mozilla/5.0 (X11; Ubuntu; Linux x86_64; rv:36.0) Gecko/20100101 Firefox/36.0')\n",
    "    req.add_header(\"Authorization\",\"Basic cXFxOnFxcQ==\")\n",
    "    req.add_header(\"Host\",\"59.71.246.127\")\n",
    "    response = urllib.request.urlopen(req,timeout=30)\n",
    "    #print(response.read())\n",
    "    return str(response.read())\n",
    "\n",
    "\n",
    "\n",
    "\n",
    "def find_file(page_url):\n",
    "    pattern = r'<img src=\"(.*?[.pdf,.jpg,.mp3])\"'\n",
    "    html = url_reader(page_url)\n",
    "    img_addrs = re.findall(pattern,html)\n",
    "    return img_addrs\n",
    "\n",
    "\n",
    "def save_file(pageurl,filepath):\n",
    "    print(\"test\")\n",
    "    urllist=find_file(pageurl)\n",
    "    for aurl in urllist:\n",
    "        try:\n",
    "            urllib.request.urlretrieve(aurl, getApath(aurl,pagepath)) #下载\n",
    "            \n",
    "            print(aurl,\"download\")\n",
    "        except:\n",
    "            print('失败') #异常抛出\n",
    "    \n",
    "\n",
    "##http://jandan.net/ooxx/page-101#comments\n",
    "socket.setdefaulttimeout(2)\n",
    "folder = r\"C:\\Users\\Abao\\Desktop\\message\"\n",
    "if not os.path.isdir(folder):\n",
    "    os.mkdir(folder)\n",
    "save_file(\"http://59.71.246.127/?search=%E5%AF%86%E7%A0%81%E5%AD%A6\",folder)"
   ]
  }
 ],
 "metadata": {
  "kernelspec": {
   "display_name": "Python 3",
   "language": "python",
   "name": "python3"
  },
  "language_info": {
   "codemirror_mode": {
    "name": "ipython",
    "version": 3
   },
   "file_extension": ".py",
   "mimetype": "text/x-python",
   "name": "python",
   "nbconvert_exporter": "python",
   "pygments_lexer": "ipython3",
   "version": "3.6.1"
  }
 },
 "nbformat": 4,
 "nbformat_minor": 2
}
