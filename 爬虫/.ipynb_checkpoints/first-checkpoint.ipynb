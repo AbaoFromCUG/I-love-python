{
 "cells": [
  {
   "cell_type": "markdown",
   "metadata": {},
   "source": [
    "## 是时候去开始学完爬虫了，再不学什么都晚了"
   ]
  },
  {
   "cell_type": "code",
   "execution_count": 17,
   "metadata": {},
   "outputs": [
    {
     "name": "stdout",
     "output_type": "stream",
     "text": [
      "hello world\n"
     ]
    }
   ],
   "source": [
    "print(\"hello world\")"
   ]
  },
  {
   "cell_type": "markdown",
   "metadata": {},
   "source": [
    "## 最简单的爬虫"
   ]
  },
  {
   "cell_type": "code",
   "execution_count": 6,
   "metadata": {},
   "outputs": [
    {
     "data": {
      "text/plain": [
       "bytes"
      ]
     },
     "execution_count": 6,
     "metadata": {},
     "output_type": "execute_result"
    },
    {
     "data": {
      "text/plain": [
       "110277"
      ]
     },
     "execution_count": 6,
     "metadata": {},
     "output_type": "execute_result"
    }
   ],
   "source": [
    "import urllib.request\n",
    "r=urllib.request.urlopen(\"https://www.baidu.cn/\")\n",
    "html=r.read()\n",
    "f=open(\"a.html\",\"wb\")\n",
    "type(html)\n",
    "f.write(html)\n",
    "f.close()"
   ]
  },
  {
   "cell_type": "code",
   "execution_count": null,
   "metadata": {},
   "outputs": [
    {
     "name": "stdout",
     "output_type": "stream",
     "text": [
      "C:\\Users\\Abao\\Desktop\\img\\8\n"
     ]
    },
    {
     "data": {
      "text/plain": [
       "('C:\\\\Users\\\\Abao\\\\Desktop\\\\img\\\\8',\n",
       " <http.client.HTTPMessage at 0x1edc5b22e48>)"
      ]
     },
     "execution_count": 1,
     "metadata": {},
     "output_type": "execute_result"
    },
    {
     "name": "stdout",
     "output_type": "stream",
     "text": [
      "C:\\Users\\Abao\\Desktop\\img\\8\n"
     ]
    }
   ],
   "source": [
    "import urllib.request\n",
    "import socket\n",
    "import re\n",
    "import os\n",
    "import sys\n",
    "aimpath=r\"C:\\Users\\Abao\\Desktop\\img\"\n",
    "aimurl=r\"http://www.58pic.com/tupian/hehua.html\"\n",
    "\n",
    "def destFile(path):\n",
    "    if not os.path.isdir(aimpath):\n",
    "        os.mkdir(aimpath)\n",
    "    pos=path.rindex(\"/\")\n",
    "    t=os.path.join(aimpath,path[pos+1])\n",
    "    return t\n",
    "\n",
    "\n",
    "\n",
    "webheaders = {'User-Agent':'Mozilla/5.0 (Windows NT 6.1; WOW64; rv:23.0) Gecko/20100101 Firefox/23.0'} \n",
    "req=urllib.request.Request(url=aimurl,headers=webheaders)  #请求头\n",
    "page=urllib.request.urlopen(req)  ##发送请求\n",
    "result=page.read()\n",
    "for link, t in set(re.findall(r'(http:[^\\s]*?(jpg|png|gif))', str(result))):  #正则表达式查找所有的图片  \n",
    "    try: \n",
    "        print(destFile(link))\n",
    "        urllib.request.urlretrieve(link, destFile(link)) #下载图片\n",
    "    except:\n",
    "        print('失败') #异常抛出\n"
   ]
  }
 ],
 "metadata": {
  "kernelspec": {
   "display_name": "Python 3",
   "language": "python",
   "name": "python3"
  },
  "language_info": {
   "codemirror_mode": {
    "name": "ipython",
    "version": 3
   },
   "file_extension": ".py",
   "mimetype": "text/x-python",
   "name": "python",
   "nbconvert_exporter": "python",
   "pygments_lexer": "ipython3",
   "version": "3.6.1"
  }
 },
 "nbformat": 4,
 "nbformat_minor": 2
}
