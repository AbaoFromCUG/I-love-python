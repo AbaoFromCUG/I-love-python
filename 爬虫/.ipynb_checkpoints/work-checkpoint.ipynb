{
 "cells": [
  {
   "cell_type": "markdown",
   "metadata": {},
   "source": [
    "## 学习网上先进的爬虫嘿嘿嘿"
   ]
  },
  {
   "cell_type": "code",
   "execution_count": null,
   "metadata": {
    "collapsed": true
   },
   "outputs": [],
   "source": []
  },
  {
   "cell_type": "code",
   "execution_count": null,
   "metadata": {},
   "outputs": [],
   "source": [
    "__author__ = 'Abao'\n",
    "import urllib.request\n",
    "import socket\n",
    "import os\n",
    "import re\n",
    "##http://jandan.net/ooxx/page-101#comments\n",
    "\n",
    "#为一张图片的url得到本地的地址\n",
    "def getApath(fileUrl,localpath):\n",
    "    if not os.path.isdir(localpath):\n",
    "        os.mkdir(localpath)\n",
    "    a=fileUrl.rindex(\"/\");\n",
    "    filepath=os.path.join(localpath,fileUrl[a+1:])\n",
    "    return filepath\n",
    "#读取一个url页面并返回页面html数据\n",
    "def url_reader(url):\n",
    "    req = urllib.request.Request(url)\n",
    "    req.add_header('User-Agent','Mozilla/5.0 (X11; Ubuntu; Linux x86_64; rv:36.0) Gecko/20100101 Firefox/36.0')\n",
    "    response = urllib.request.urlopen(req)\n",
    "    return str(response.read())\n",
    "\n",
    "\n",
    "\n",
    "\n",
    "def find_imgs(page_url):\n",
    "    pattern = r'<img src=\"(.*?[.jpg,.gif,.png])\"'\n",
    "    html = url_reader(page_url)\n",
    "    img_addrs = re.findall(pattern,html)\n",
    "    return img_addrs\n",
    "\n",
    "##第一个参数照片url，第二个参数本地目录\n",
    "def save_imgs(pageurl,pagepath):\n",
    "    for aurl in find_imgs(pageurl):\n",
    "        try: \n",
    "            if not aurl.startswith(\"http:\"):\n",
    "                aurl=\"http:%s\"%aurl\n",
    "            print(aurl)\n",
    "            urllib.request.urlretrieve(aurl, getApath(aurl,pagepath)) #下载图片\n",
    "        except:\n",
    "            print('失败') #异常抛出\n",
    "    \n",
    "\n",
    "##http://jandan.net/ooxx/page-101#comments\n",
    "socket.setdefaulttimeout(300)\n",
    "folder = r\"C:\\Users\\Abao\\Desktop\\煎蛋网\"\n",
    "if not os.path.isdir(folder):\n",
    "    os.mkdir(folder)\n",
    "for pageNum in range(1,101):\n",
    "    pageSign=\"\\\\page%d\"%pageNum\n",
    "    newpagefolder=folder+pageSign\n",
    "    if not os.path.isdir(newpagefolder):\n",
    "        os.mkdir(newpagefolder)\n",
    "    pageurl=\"http://jandan.net/ooxx/page-%d#comments\"%pageNum\n",
    "    save_imgs(pageurl,newpagefolder)\n",
    "    "
   ]
  },
  {
   "cell_type": "code",
   "execution_count": null,
   "metadata": {
    "collapsed": true
   },
   "outputs": [],
   "source": []
  },
  {
   "cell_type": "code",
   "execution_count": null,
   "metadata": {
    "collapsed": true
   },
   "outputs": [],
   "source": []
  }
 ],
 "metadata": {
  "kernelspec": {
   "display_name": "Python 3",
   "language": "python",
   "name": "python3"
  },
  "language_info": {
   "codemirror_mode": {
    "name": "ipython",
    "version": 3
   },
   "file_extension": ".py",
   "mimetype": "text/x-python",
   "name": "python",
   "nbconvert_exporter": "python",
   "pygments_lexer": "ipython3",
   "version": "3.6.1"
  }
 },
 "nbformat": 4,
 "nbformat_minor": 2
}
