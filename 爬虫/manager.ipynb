{
 "cells": [
  {
   "cell_type": "markdown",
   "metadata": {},
   "source": [
    "## url管理器\n",
    "- 用一个列表储存所有的页面url"
   ]
  },
  {
   "cell_type": "code",
   "execution_count": 45,
   "metadata": {},
   "outputs": [
    {
     "data": {
      "text/plain": [
       "True"
      ]
     },
     "execution_count": 45,
     "metadata": {},
     "output_type": "execute_result"
    },
    {
     "data": {
      "text/plain": [
       "True"
      ]
     },
     "execution_count": 45,
     "metadata": {},
     "output_type": "execute_result"
    },
    {
     "data": {
      "text/plain": [
       "False"
      ]
     },
     "execution_count": 45,
     "metadata": {},
     "output_type": "execute_result"
    },
    {
     "name": "stdout",
     "output_type": "stream",
     "text": [
      "https://www.baidu.com/index.html False\n",
      "https://www.baidu.com/jfkdjslk.img False\n"
     ]
    }
   ],
   "source": [
    "class url_manager:\n",
    "    beforeList=[]\n",
    "    afterList=[]\n",
    "    key=[]\n",
    "    def __init__(self,key):\n",
    "        self.key=key\n",
    "        pass\n",
    "    def isInBef(self,url):\n",
    "        if self.beforeList.index(url)==-1:\n",
    "            return False\n",
    "        return True\n",
    "    def isInAft(self,url):\n",
    "        if self.beforeList.index(rul)==-1:\n",
    "            return False\n",
    "        return True\n",
    "    ##判断是不是目标网页，目标网页可以有多个关键词语，满足一个就可以说明是目标网页，防止跳转到其他网页，\n",
    "##例如baidu。com下\n",
    "    def isKeyUrl(self,url):\n",
    "        for x in self.key:\n",
    "            if url.index(x)!=-1:\n",
    "                return True\n",
    "        return False\n",
    "    def isNewUrl(self,url):\n",
    "        if not self.isNewUrl(url):\n",
    "            return False\n",
    "        if \n",
    "                \n",
    "        "
   ]
  },
  {
   "cell_type": "code",
   "execution_count": null,
   "metadata": {
    "collapsed": true
   },
   "outputs": [],
   "source": []
  }
 ],
 "metadata": {
  "kernelspec": {
   "display_name": "Python 3",
   "language": "python",
   "name": "python3"
  },
  "language_info": {
   "codemirror_mode": {
    "name": "ipython",
    "version": 3
   },
   "file_extension": ".py",
   "mimetype": "text/x-python",
   "name": "python",
   "nbconvert_exporter": "python",
   "pygments_lexer": "ipython3",
   "version": "3.6.1"
  }
 },
 "nbformat": 4,
 "nbformat_minor": 2
}
