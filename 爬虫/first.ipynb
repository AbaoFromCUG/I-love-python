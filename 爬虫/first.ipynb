{
 "cells": [
  {
   "cell_type": "markdown",
   "metadata": {},
   "source": [
    "## 是时候去开始学完爬虫了，再不学什么都晚了"
   ]
  },
  {
   "cell_type": "code",
   "execution_count": 17,
   "metadata": {},
   "outputs": [
    {
     "name": "stdout",
     "output_type": "stream",
     "text": [
      "hello world\n"
     ]
    }
   ],
   "source": [
    "print(\"hello world\")"
   ]
  },
  {
   "cell_type": "markdown",
   "metadata": {},
   "source": [
    "## 最简单的爬虫"
   ]
  },
  {
   "cell_type": "code",
   "execution_count": 6,
   "metadata": {},
   "outputs": [
    {
     "data": {
      "text/plain": [
       "bytes"
      ]
     },
     "execution_count": 6,
     "metadata": {},
     "output_type": "execute_result"
    },
    {
     "data": {
      "text/plain": [
       "110277"
      ]
     },
     "execution_count": 6,
     "metadata": {},
     "output_type": "execute_result"
    }
   ],
   "source": [
    "import urllib.request\n",
    "r=urllib.request.urlopen(\"https://www.baidu.cn/\")\n",
    "html=r.read()\n",
    "f=open(\"a.html\",\"wb\")\n",
    "type(html)\n",
    "f.write(html)\n",
    "f.close()"
   ]
  },
  {
   "cell_type": "code",
   "execution_count": 16,
   "metadata": {
    "scrolled": true
   },
   "outputs": [
    {
     "data": {
      "text/plain": [
       "('C:\\\\Users\\\\Abao\\\\Desktop\\\\img\\\\32R58PICTeu.jpg',\n",
       " <http.client.HTTPMessage at 0x2224af3c860>)"
      ]
     },
     "execution_count": 16,
     "metadata": {},
     "output_type": "execute_result"
    },
    {
     "data": {
      "text/plain": [
       "('C:\\\\Users\\\\Abao\\\\Desktop\\\\img\\\\57f58PICwnR.jpg',\n",
       " <http.client.HTTPMessage at 0x2224aed32b0>)"
      ]
     },
     "execution_count": 16,
     "metadata": {},
     "output_type": "execute_result"
    },
    {
     "data": {
      "text/plain": [
       "('C:\\\\Users\\\\Abao\\\\Desktop\\\\img\\\\14F58PICrCj.jpg',\n",
       " <http.client.HTTPMessage at 0x2224aed3898>)"
      ]
     },
     "execution_count": 16,
     "metadata": {},
     "output_type": "execute_result"
    },
    {
     "data": {
      "text/plain": [
       "('C:\\\\Users\\\\Abao\\\\Desktop\\\\img\\\\56de5fb19f927.jpg',\n",
       " <http.client.HTTPMessage at 0x2224aed3518>)"
      ]
     },
     "execution_count": 16,
     "metadata": {},
     "output_type": "execute_result"
    },
    {
     "data": {
      "text/plain": [
       "('C:\\\\Users\\\\Abao\\\\Desktop\\\\img\\\\13458PIC5Xc.jpg',\n",
       " <http.client.HTTPMessage at 0x2224af3cd68>)"
      ]
     },
     "execution_count": 16,
     "metadata": {},
     "output_type": "execute_result"
    },
    {
     "data": {
      "text/plain": [
       "('C:\\\\Users\\\\Abao\\\\Desktop\\\\img\\\\69j58PICwvJ.jpg',\n",
       " <http.client.HTTPMessage at 0x2224aed32b0>)"
      ]
     },
     "execution_count": 16,
     "metadata": {},
     "output_type": "execute_result"
    },
    {
     "data": {
      "text/plain": [
       "('C:\\\\Users\\\\Abao\\\\Desktop\\\\img\\\\sd.jpg',\n",
       " <http.client.HTTPMessage at 0x2224aed3cc0>)"
      ]
     },
     "execution_count": 16,
     "metadata": {},
     "output_type": "execute_result"
    },
    {
     "data": {
      "text/plain": [
       "('C:\\\\Users\\\\Abao\\\\Desktop\\\\img\\\\14w58PICYxn.jpg',\n",
       " <http.client.HTTPMessage at 0x2224aed37f0>)"
      ]
     },
     "execution_count": 16,
     "metadata": {},
     "output_type": "execute_result"
    },
    {
     "data": {
      "text/plain": [
       "('C:\\\\Users\\\\Abao\\\\Desktop\\\\img\\\\71358PICh6B.jpg',\n",
       " <http.client.HTTPMessage at 0x2224af3c160>)"
      ]
     },
     "execution_count": 16,
     "metadata": {},
     "output_type": "execute_result"
    },
    {
     "data": {
      "text/plain": [
       "('C:\\\\Users\\\\Abao\\\\Desktop\\\\img\\\\61n58PICzK4.jpg',\n",
       " <http.client.HTTPMessage at 0x2224aed3358>)"
      ]
     },
     "execution_count": 16,
     "metadata": {},
     "output_type": "execute_result"
    },
    {
     "data": {
      "text/plain": [
       "('C:\\\\Users\\\\Abao\\\\Desktop\\\\img\\\\09s58PICCyA.jpg',\n",
       " <http.client.HTTPMessage at 0x2224aed3c88>)"
      ]
     },
     "execution_count": 16,
     "metadata": {},
     "output_type": "execute_result"
    },
    {
     "data": {
      "text/plain": [
       "('C:\\\\Users\\\\Abao\\\\Desktop\\\\img\\\\81h58PICJsY.jpg',\n",
       " <http.client.HTTPMessage at 0x2224aed32e8>)"
      ]
     },
     "execution_count": 16,
     "metadata": {},
     "output_type": "execute_result"
    },
    {
     "data": {
      "text/plain": [
       "('C:\\\\Users\\\\Abao\\\\Desktop\\\\img\\\\59p58PICfeg.jpg',\n",
       " <http.client.HTTPMessage at 0x2224aed3470>)"
      ]
     },
     "execution_count": 16,
     "metadata": {},
     "output_type": "execute_result"
    },
    {
     "data": {
      "text/plain": [
       "('C:\\\\Users\\\\Abao\\\\Desktop\\\\img\\\\56e8e7ecea46d.jpg',\n",
       " <http.client.HTTPMessage at 0x2224aed3278>)"
      ]
     },
     "execution_count": 16,
     "metadata": {},
     "output_type": "execute_result"
    },
    {
     "data": {
      "text/plain": [
       "('C:\\\\Users\\\\Abao\\\\Desktop\\\\img\\\\49T58PICDdz.jpg',\n",
       " <http.client.HTTPMessage at 0x2224aed3550>)"
      ]
     },
     "execution_count": 16,
     "metadata": {},
     "output_type": "execute_result"
    },
    {
     "data": {
      "text/plain": [
       "('C:\\\\Users\\\\Abao\\\\Desktop\\\\img\\\\5703530b107ea.jpg',\n",
       " <http.client.HTTPMessage at 0x2224af3cfd0>)"
      ]
     },
     "execution_count": 16,
     "metadata": {},
     "output_type": "execute_result"
    },
    {
     "data": {
      "text/plain": [
       "('C:\\\\Users\\\\Abao\\\\Desktop\\\\img\\\\lazypic.jpg',\n",
       " <http.client.HTTPMessage at 0x2224aed3470>)"
      ]
     },
     "execution_count": 16,
     "metadata": {},
     "output_type": "execute_result"
    },
    {
     "name": "stdout",
     "output_type": "stream",
     "text": [
      "失败\n"
     ]
    },
    {
     "data": {
      "text/plain": [
       "('C:\\\\Users\\\\Abao\\\\Desktop\\\\img\\\\40F58PICMyx.jpg',\n",
       " <http.client.HTTPMessage at 0x2224aed33c8>)"
      ]
     },
     "execution_count": 16,
     "metadata": {},
     "output_type": "execute_result"
    },
    {
     "data": {
      "text/plain": [
       "('C:\\\\Users\\\\Abao\\\\Desktop\\\\img\\\\42z58PICSr8.jpg',\n",
       " <http.client.HTTPMessage at 0x2224aed3048>)"
      ]
     },
     "execution_count": 16,
     "metadata": {},
     "output_type": "execute_result"
    },
    {
     "data": {
      "text/plain": [
       "('C:\\\\Users\\\\Abao\\\\Desktop\\\\img\\\\69N58PICnvh.jpg',\n",
       " <http.client.HTTPMessage at 0x2224af3cac8>)"
      ]
     },
     "execution_count": 16,
     "metadata": {},
     "output_type": "execute_result"
    },
    {
     "data": {
      "text/plain": [
       "('C:\\\\Users\\\\Abao\\\\Desktop\\\\img\\\\26M58PICutF.jpg',\n",
       " <http.client.HTTPMessage at 0x2224aed3470>)"
      ]
     },
     "execution_count": 16,
     "metadata": {},
     "output_type": "execute_result"
    },
    {
     "data": {
      "text/plain": [
       "('C:\\\\Users\\\\Abao\\\\Desktop\\\\img\\\\ad.png',\n",
       " <http.client.HTTPMessage at 0x2224aed33c8>)"
      ]
     },
     "execution_count": 16,
     "metadata": {},
     "output_type": "execute_result"
    },
    {
     "data": {
      "text/plain": [
       "('C:\\\\Users\\\\Abao\\\\Desktop\\\\img\\\\58PIC_nkeo1122_20091111bfcef8ea9888300b.jpg',\n",
       " <http.client.HTTPMessage at 0x2224aed3da0>)"
      ]
     },
     "execution_count": 16,
     "metadata": {},
     "output_type": "execute_result"
    },
    {
     "data": {
      "text/plain": [
       "('C:\\\\Users\\\\Abao\\\\Desktop\\\\img\\\\76u58PICrb5.jpg',\n",
       " <http.client.HTTPMessage at 0x2224af3cba8>)"
      ]
     },
     "execution_count": 16,
     "metadata": {},
     "output_type": "execute_result"
    },
    {
     "data": {
      "text/plain": [
       "('C:\\\\Users\\\\Abao\\\\Desktop\\\\img\\\\78V58PICNBW.jpg',\n",
       " <http.client.HTTPMessage at 0x2224aed3518>)"
      ]
     },
     "execution_count": 16,
     "metadata": {},
     "output_type": "execute_result"
    },
    {
     "data": {
      "text/plain": [
       "('C:\\\\Users\\\\Abao\\\\Desktop\\\\img\\\\96H58PICscy.jpg',\n",
       " <http.client.HTTPMessage at 0x2224aed3e10>)"
      ]
     },
     "execution_count": 16,
     "metadata": {},
     "output_type": "execute_result"
    },
    {
     "data": {
      "text/plain": [
       "('C:\\\\Users\\\\Abao\\\\Desktop\\\\img\\\\21758PICdwK.jpg',\n",
       " <http.client.HTTPMessage at 0x2224aed35c0>)"
      ]
     },
     "execution_count": 16,
     "metadata": {},
     "output_type": "execute_result"
    },
    {
     "data": {
      "text/plain": [
       "('C:\\\\Users\\\\Abao\\\\Desktop\\\\img\\\\user-img-default.png',\n",
       " <http.client.HTTPMessage at 0x2224af3c4e0>)"
      ]
     },
     "execution_count": 16,
     "metadata": {},
     "output_type": "execute_result"
    },
    {
     "data": {
      "text/plain": [
       "('C:\\\\Users\\\\Abao\\\\Desktop\\\\img\\\\58PIC_yy5561849_20091206ed13dafd5e915009.jpg',\n",
       " <http.client.HTTPMessage at 0x2224aed3908>)"
      ]
     },
     "execution_count": 16,
     "metadata": {},
     "output_type": "execute_result"
    },
    {
     "data": {
      "text/plain": [
       "('C:\\\\Users\\\\Abao\\\\Desktop\\\\img\\\\70T58PICF2i.jpg',\n",
       " <http.client.HTTPMessage at 0x2224aed3438>)"
      ]
     },
     "execution_count": 16,
     "metadata": {},
     "output_type": "execute_result"
    },
    {
     "data": {
      "text/plain": [
       "('C:\\\\Users\\\\Abao\\\\Desktop\\\\img\\\\wechat-g.png',\n",
       " <http.client.HTTPMessage at 0x2224aed3278>)"
      ]
     },
     "execution_count": 16,
     "metadata": {},
     "output_type": "execute_result"
    },
    {
     "data": {
      "text/plain": [
       "('C:\\\\Users\\\\Abao\\\\Desktop\\\\img\\\\43e58PICKsy.jpg',\n",
       " <http.client.HTTPMessage at 0x2224aed38d0>)"
      ]
     },
     "execution_count": 16,
     "metadata": {},
     "output_type": "execute_result"
    },
    {
     "data": {
      "text/plain": [
       "('C:\\\\Users\\\\Abao\\\\Desktop\\\\img\\\\88H58PICIKX.jpg',\n",
       " <http.client.HTTPMessage at 0x2224aed3f98>)"
      ]
     },
     "execution_count": 16,
     "metadata": {},
     "output_type": "execute_result"
    },
    {
     "data": {
      "text/plain": [
       "('C:\\\\Users\\\\Abao\\\\Desktop\\\\img\\\\32X58PICxBZ.jpg',\n",
       " <http.client.HTTPMessage at 0x2224aed3470>)"
      ]
     },
     "execution_count": 16,
     "metadata": {},
     "output_type": "execute_result"
    },
    {
     "data": {
      "text/plain": [
       "('C:\\\\Users\\\\Abao\\\\Desktop\\\\img\\\\575519f567e31.jpg',\n",
       " <http.client.HTTPMessage at 0x2224af3c6a0>)"
      ]
     },
     "execution_count": 16,
     "metadata": {},
     "output_type": "execute_result"
    },
    {
     "data": {
      "text/plain": [
       "('C:\\\\Users\\\\Abao\\\\Desktop\\\\img\\\\70f58PIC7qg.jpg',\n",
       " <http.client.HTTPMessage at 0x2224af3c2b0>)"
      ]
     },
     "execution_count": 16,
     "metadata": {},
     "output_type": "execute_result"
    },
    {
     "data": {
      "text/plain": [
       "('C:\\\\Users\\\\Abao\\\\Desktop\\\\img\\\\17y58PICXSD.jpg',\n",
       " <http.client.HTTPMessage at 0x2224aed3eb8>)"
      ]
     },
     "execution_count": 16,
     "metadata": {},
     "output_type": "execute_result"
    },
    {
     "data": {
      "text/plain": [
       "('C:\\\\Users\\\\Abao\\\\Desktop\\\\img\\\\81c58PICqhQ.jpg',\n",
       " <http.client.HTTPMessage at 0x2224aed35f8>)"
      ]
     },
     "execution_count": 16,
     "metadata": {},
     "output_type": "execute_result"
    },
    {
     "data": {
      "text/plain": [
       "('C:\\\\Users\\\\Abao\\\\Desktop\\\\img\\\\78bOOOPIC34.jpg',\n",
       " <http.client.HTTPMessage at 0x2224af3cac8>)"
      ]
     },
     "execution_count": 16,
     "metadata": {},
     "output_type": "execute_result"
    }
   ],
   "source": [
    "import urllib.request\n",
    "import socket\n",
    "import re\n",
    "import os\n",
    "import sys\n",
    "aimpath=r\"C:\\Users\\Abao\\Desktop\\img\"\n",
    "aimurl=r\"http://www.58pic.com/tupian/hehua.html\"\n",
    "\n",
    "def destFile(path):\n",
    "    if not os.path.isdir(aimpath):\n",
    "        os.mkdir(aimpath)\n",
    "    pos=path.rindex(\"/\")\n",
    "    t=os.path.join(aimpath,path[pos+1:])\n",
    "    return t\n",
    "\n",
    "\n",
    "\n",
    "webheaders = {'User-Agent':'Mozilla/5.0 (Windows NT 6.1; WOW64; rv:23.0) Gecko/20100101 Firefox/23.0'} \n",
    "req=urllib.request.Request(url=aimurl,headers=webheaders)  #请求头\n",
    "page=urllib.request.urlopen(req)  ##发送请求\n",
    "result=page.read()\n",
    "for link, t in set(re.findall(r'(http:[^\\s]*?(jpg|png|gif))', str(result))):  #正则表达式查找所有的图片  \n",
    "    try: \n",
    "        urllib.request.urlretrieve(link, destFile(link)) #下载图片\n",
    "    except:\n",
    "        print('失败') #异常抛出\n",
    "\n",
    "    "
   ]
  },
  {
   "cell_type": "code",
   "execution_count": 1,
   "metadata": {},
   "outputs": [
    {
     "name": "stdout",
     "output_type": "stream",
     "text": [
      "1\n"
     ]
    },
    {
     "data": {
      "text/plain": [
       "('C:\\\\Users\\\\Abao\\\\Desktop\\\\国外美图网\\\\Breakup-Image-Of-Couple-900x599.jpg',\n",
       " <http.client.HTTPMessage at 0x24df4af5d30>)"
      ]
     },
     "execution_count": 1,
     "metadata": {},
     "output_type": "execute_result"
    },
    {
     "name": "stdout",
     "output_type": "stream",
     "text": [
      "失败\n"
     ]
    },
    {
     "data": {
      "text/plain": [
       "('C:\\\\Users\\\\Abao\\\\Desktop\\\\国外美图网\\\\Birthday-Wishes-For-Love-Couple-420x140.jpg',\n",
       " <http.client.HTTPMessage at 0x24df4b18278>)"
      ]
     },
     "execution_count": 1,
     "metadata": {},
     "output_type": "execute_result"
    },
    {
     "data": {
      "text/plain": [
       "('C:\\\\Users\\\\Abao\\\\Desktop\\\\国外美图网\\\\Cute-Anime-Couple-58601.jpg',\n",
       " <http.client.HTTPMessage at 0x24df4b182b0>)"
      ]
     },
     "execution_count": 1,
     "metadata": {},
     "output_type": "execute_result"
    },
    {
     "data": {
      "text/plain": [
       "('C:\\\\Users\\\\Abao\\\\Desktop\\\\国外美图网\\\\Good-Night-Good-Night-Pictures-624x351.jpg',\n",
       " <http.client.HTTPMessage at 0x24df4b186d8>)"
      ]
     },
     "execution_count": 1,
     "metadata": {},
     "output_type": "execute_result"
    },
    {
     "data": {
      "text/plain": [
       "('C:\\\\Users\\\\Abao\\\\Desktop\\\\国外美图网\\\\Breakup-Image-Of-Couple.jpg',\n",
       " <http.client.HTTPMessage at 0x24df4b180f0>)"
      ]
     },
     "execution_count": 1,
     "metadata": {},
     "output_type": "execute_result"
    },
    {
     "data": {
      "text/plain": [
       "('C:\\\\Users\\\\Abao\\\\Desktop\\\\国外美图网\\\\Romantic-Couple-123013-860x500.jpg',\n",
       " <http.client.HTTPMessage at 0x24df4b18400>)"
      ]
     },
     "execution_count": 1,
     "metadata": {},
     "output_type": "execute_result"
    },
    {
     "data": {
      "text/plain": [
       "('C:\\\\Users\\\\Abao\\\\Desktop\\\\国外美图网\\\\Breakup-Image-Of-Couple-370x246.jpg',\n",
       " <http.client.HTTPMessage at 0x24df4b18630>)"
      ]
     },
     "execution_count": 1,
     "metadata": {},
     "output_type": "execute_result"
    },
    {
     "name": "stdout",
     "output_type": "stream",
     "text": [
      "失败\n"
     ]
    },
    {
     "data": {
      "text/plain": [
       "('C:\\\\Users\\\\Abao\\\\Desktop\\\\国外美图网\\\\Breakup-Image-Of-Couple-768x511.jpg',\n",
       " <http.client.HTTPMessage at 0x24df4b18b38>)"
      ]
     },
     "execution_count": 1,
     "metadata": {},
     "output_type": "execute_result"
    },
    {
     "data": {
      "text/plain": [
       "('C:\\\\Users\\\\Abao\\\\Desktop\\\\国外美图网\\\\Good-Night-Good-Night-Pictures.jpg',\n",
       " <http.client.HTTPMessage at 0x24df4b18748>)"
      ]
     },
     "execution_count": 1,
     "metadata": {},
     "output_type": "execute_result"
    },
    {
     "data": {
      "text/plain": [
       "('C:\\\\Users\\\\Abao\\\\Desktop\\\\国外美图网\\\\Cute-Anime-Couple-58601-310x194.jpg',\n",
       " <http.client.HTTPMessage at 0x24df4b184a8>)"
      ]
     },
     "execution_count": 1,
     "metadata": {},
     "output_type": "execute_result"
    },
    {
     "data": {
      "text/plain": [
       "('C:\\\\Users\\\\Abao\\\\Desktop\\\\国外美图网\\\\Birthday-Wishes-For-Love-Couple-900x300.jpg',\n",
       " <http.client.HTTPMessage at 0x24df4b18048>)"
      ]
     },
     "execution_count": 1,
     "metadata": {},
     "output_type": "execute_result"
    },
    {
     "data": {
      "text/plain": [
       "('C:\\\\Users\\\\Abao\\\\Desktop\\\\国外美图网\\\\Good-Night-Good-Night-Pictures-768x432.jpg',\n",
       " <http.client.HTTPMessage at 0x24df4b183c8>)"
      ]
     },
     "execution_count": 1,
     "metadata": {},
     "output_type": "execute_result"
    },
    {
     "data": {
      "text/plain": [
       "('C:\\\\Users\\\\Abao\\\\Desktop\\\\国外美图网\\\\Cute-Couple-159011-860x500.jpg',\n",
       " <http.client.HTTPMessage at 0x24df4b187f0>)"
      ]
     },
     "execution_count": 1,
     "metadata": {},
     "output_type": "execute_result"
    },
    {
     "data": {
      "text/plain": [
       "('C:\\\\Users\\\\Abao\\\\Desktop\\\\国外美图网\\\\cropped-cropped-cropped-LogoOne-2.jpg',\n",
       " <http.client.HTTPMessage at 0x24df4b186d8>)"
      ]
     },
     "execution_count": 1,
     "metadata": {},
     "output_type": "execute_result"
    },
    {
     "data": {
      "text/plain": [
       "('C:\\\\Users\\\\Abao\\\\Desktop\\\\国外美图网\\\\Breakup-Image-Of-Couple-624x415.jpg',\n",
       " <http.client.HTTPMessage at 0x24df4b18160>)"
      ]
     },
     "execution_count": 1,
     "metadata": {},
     "output_type": "execute_result"
    },
    {
     "data": {
      "text/plain": [
       "('C:\\\\Users\\\\Abao\\\\Desktop\\\\国外美图网\\\\Breakup-Image-Of-Couple-310x206.jpg',\n",
       " <http.client.HTTPMessage at 0x24df4af5fd0>)"
      ]
     },
     "execution_count": 1,
     "metadata": {},
     "output_type": "execute_result"
    },
    {
     "data": {
      "text/plain": [
       "('C:\\\\Users\\\\Abao\\\\Desktop\\\\国外美图网\\\\Breakup-Image-Of-Couple-800x532.jpg',\n",
       " <http.client.HTTPMessage at 0x24df4b187f0>)"
      ]
     },
     "execution_count": 1,
     "metadata": {},
     "output_type": "execute_result"
    },
    {
     "data": {
      "text/plain": [
       "('C:\\\\Users\\\\Abao\\\\Desktop\\\\国外美图网\\\\Breakup-Image-Of-Couple-1000x665.jpg',\n",
       " <http.client.HTTPMessage at 0x24df4b18b38>)"
      ]
     },
     "execution_count": 1,
     "metadata": {},
     "output_type": "execute_result"
    },
    {
     "data": {
      "text/plain": [
       "('C:\\\\Users\\\\Abao\\\\Desktop\\\\国外美图网\\\\Good-Night-Good-Night-Pictures-310x174.jpg',\n",
       " <http.client.HTTPMessage at 0x24df4b18ac8>)"
      ]
     },
     "execution_count": 1,
     "metadata": {},
     "output_type": "execute_result"
    }
   ],
   "source": [
    "import urllib.request\n",
    "import re\n",
    "import os\n",
    "#import urllib.error import \n",
    "import sys\n",
    "aimurl=r\"https://onehdwallpaper.com/category/love/\"\n",
    "localpath=r\"C:\\Users\\Abao\\Desktop\\精美图片\"\n",
    "def getApath(fileUrl):\n",
    "    if not os.path.isdir(localpath):\n",
    "        os.mkdir(localpath)\n",
    "    a=fileUrl.rindex(\"/\");\n",
    "    filepath=os.path.join(localpath,fileUrl[a+1:])\n",
    "    \n",
    "    return filepath\n",
    "user_agent=\"\"\n",
    "header = {'User-Agent':'Mozilla/5.0 (Windows NT 6.1; WOW64; rv:23.0) Gecko/20100101 Firefox/23.0'} \n",
    "r=urllib.request.Request(url=aimurl,headers=header)\n",
    "result=urllib.request.urlopen(r).read()\n",
    "\n",
    "print(\"1\")\n",
    "#print(result)\n",
    "\n",
    "for link, t in set(re.findall(r'(https:[^\\s]*?(jpg|png|gif))', str(result))):  #正则表达式查找所有的图片  \n",
    "    try: \n",
    "        urllib.request.urlretrieve(link, getApath(link)) #下载图片\n",
    "    except:\n",
    "        print('失败') #异常抛出"
   ]
  }
 ],
 "metadata": {
  "kernelspec": {
   "display_name": "Python 3",
   "language": "python",
   "name": "python3"
  },
  "language_info": {
   "codemirror_mode": {
    "name": "ipython",
    "version": 3
   },
   "file_extension": ".py",
   "mimetype": "text/x-python",
   "name": "python",
   "nbconvert_exporter": "python",
   "pygments_lexer": "ipython3",
   "version": "3.6.1"
  }
 },
 "nbformat": 4,
 "nbformat_minor": 2
}
