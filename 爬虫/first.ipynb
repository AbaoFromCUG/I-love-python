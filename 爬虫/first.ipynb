{
 "cells": [
  {
   "cell_type": "markdown",
   "metadata": {},
   "source": [
    "## 是时候去开始学完爬虫了，再不学什么都晚了"
   ]
  },
  {
   "cell_type": "code",
   "execution_count": 17,
   "metadata": {},
   "outputs": [
    {
     "name": "stdout",
     "output_type": "stream",
     "text": [
      "hello world\n"
     ]
    }
   ],
   "source": [
    "print(\"hello world\")"
   ]
  },
  {
   "cell_type": "markdown",
   "metadata": {},
   "source": [
    "## 最简单的爬虫"
   ]
  },
  {
   "cell_type": "code",
   "execution_count": 1,
   "metadata": {},
   "outputs": [
    {
     "ename": "HTTPError",
     "evalue": "HTTP Error 401: Unauthorized",
     "output_type": "error",
     "traceback": [
      "\u001b[1;31m---------------------------------------------------------------------------\u001b[0m",
      "\u001b[1;31mHTTPError\u001b[0m                                 Traceback (most recent call last)",
      "\u001b[1;32m<ipython-input-1-7d650a39dc15>\u001b[0m in \u001b[0;36m<module>\u001b[1;34m()\u001b[0m\n\u001b[0;32m      1\u001b[0m \u001b[1;32mimport\u001b[0m \u001b[0murllib\u001b[0m\u001b[1;33m.\u001b[0m\u001b[0mrequest\u001b[0m\u001b[1;33m\u001b[0m\u001b[0m\n\u001b[1;32m----> 2\u001b[1;33m \u001b[0mr\u001b[0m\u001b[1;33m=\u001b[0m\u001b[0murllib\u001b[0m\u001b[1;33m.\u001b[0m\u001b[0mrequest\u001b[0m\u001b[1;33m.\u001b[0m\u001b[0murlopen\u001b[0m\u001b[1;33m(\u001b[0m\u001b[1;34m\"http://59.71.246.127/?search=%E5%AF%86%E7%A0%81%E5%AD%A6\"\u001b[0m\u001b[1;33m)\u001b[0m\u001b[1;33m\u001b[0m\u001b[0m\n\u001b[0m\u001b[0;32m      3\u001b[0m \u001b[0mreq\u001b[0m\u001b[1;33m.\u001b[0m\u001b[0madd_header\u001b[0m\u001b[1;33m(\u001b[0m\u001b[1;34m\"Authorization\"\u001b[0m\u001b[1;33m,\u001b[0m\u001b[1;34m\"Basic cXFxOnFxcQ==\"\u001b[0m\u001b[1;33m)\u001b[0m\u001b[1;33m\u001b[0m\u001b[0m\n\u001b[0;32m      4\u001b[0m \u001b[0mhtml\u001b[0m\u001b[1;33m=\u001b[0m\u001b[0mr\u001b[0m\u001b[1;33m.\u001b[0m\u001b[0mread\u001b[0m\u001b[1;33m(\u001b[0m\u001b[1;33m)\u001b[0m\u001b[1;33m\u001b[0m\u001b[0m\n\u001b[0;32m      5\u001b[0m \u001b[0mf\u001b[0m\u001b[1;33m=\u001b[0m\u001b[0mopen\u001b[0m\u001b[1;33m(\u001b[0m\u001b[1;34m\"a.html\"\u001b[0m\u001b[1;33m,\u001b[0m\u001b[1;34m\"wb\"\u001b[0m\u001b[1;33m)\u001b[0m\u001b[1;33m\u001b[0m\u001b[0m\n",
      "\u001b[1;32mc:\\program files (x86)\\lib\\urllib\\request.py\u001b[0m in \u001b[0;36murlopen\u001b[1;34m(url, data, timeout, cafile, capath, cadefault, context)\u001b[0m\n\u001b[0;32m    221\u001b[0m     \u001b[1;32melse\u001b[0m\u001b[1;33m:\u001b[0m\u001b[1;33m\u001b[0m\u001b[0m\n\u001b[0;32m    222\u001b[0m         \u001b[0mopener\u001b[0m \u001b[1;33m=\u001b[0m \u001b[0m_opener\u001b[0m\u001b[1;33m\u001b[0m\u001b[0m\n\u001b[1;32m--> 223\u001b[1;33m     \u001b[1;32mreturn\u001b[0m \u001b[0mopener\u001b[0m\u001b[1;33m.\u001b[0m\u001b[0mopen\u001b[0m\u001b[1;33m(\u001b[0m\u001b[0murl\u001b[0m\u001b[1;33m,\u001b[0m \u001b[0mdata\u001b[0m\u001b[1;33m,\u001b[0m \u001b[0mtimeout\u001b[0m\u001b[1;33m)\u001b[0m\u001b[1;33m\u001b[0m\u001b[0m\n\u001b[0m\u001b[0;32m    224\u001b[0m \u001b[1;33m\u001b[0m\u001b[0m\n\u001b[0;32m    225\u001b[0m \u001b[1;32mdef\u001b[0m \u001b[0minstall_opener\u001b[0m\u001b[1;33m(\u001b[0m\u001b[0mopener\u001b[0m\u001b[1;33m)\u001b[0m\u001b[1;33m:\u001b[0m\u001b[1;33m\u001b[0m\u001b[0m\n",
      "\u001b[1;32mc:\\program files (x86)\\lib\\urllib\\request.py\u001b[0m in \u001b[0;36mopen\u001b[1;34m(self, fullurl, data, timeout)\u001b[0m\n\u001b[0;32m    530\u001b[0m         \u001b[1;32mfor\u001b[0m \u001b[0mprocessor\u001b[0m \u001b[1;32min\u001b[0m \u001b[0mself\u001b[0m\u001b[1;33m.\u001b[0m\u001b[0mprocess_response\u001b[0m\u001b[1;33m.\u001b[0m\u001b[0mget\u001b[0m\u001b[1;33m(\u001b[0m\u001b[0mprotocol\u001b[0m\u001b[1;33m,\u001b[0m \u001b[1;33m[\u001b[0m\u001b[1;33m]\u001b[0m\u001b[1;33m)\u001b[0m\u001b[1;33m:\u001b[0m\u001b[1;33m\u001b[0m\u001b[0m\n\u001b[0;32m    531\u001b[0m             \u001b[0mmeth\u001b[0m \u001b[1;33m=\u001b[0m \u001b[0mgetattr\u001b[0m\u001b[1;33m(\u001b[0m\u001b[0mprocessor\u001b[0m\u001b[1;33m,\u001b[0m \u001b[0mmeth_name\u001b[0m\u001b[1;33m)\u001b[0m\u001b[1;33m\u001b[0m\u001b[0m\n\u001b[1;32m--> 532\u001b[1;33m             \u001b[0mresponse\u001b[0m \u001b[1;33m=\u001b[0m \u001b[0mmeth\u001b[0m\u001b[1;33m(\u001b[0m\u001b[0mreq\u001b[0m\u001b[1;33m,\u001b[0m \u001b[0mresponse\u001b[0m\u001b[1;33m)\u001b[0m\u001b[1;33m\u001b[0m\u001b[0m\n\u001b[0m\u001b[0;32m    533\u001b[0m \u001b[1;33m\u001b[0m\u001b[0m\n\u001b[0;32m    534\u001b[0m         \u001b[1;32mreturn\u001b[0m \u001b[0mresponse\u001b[0m\u001b[1;33m\u001b[0m\u001b[0m\n",
      "\u001b[1;32mc:\\program files (x86)\\lib\\urllib\\request.py\u001b[0m in \u001b[0;36mhttp_response\u001b[1;34m(self, request, response)\u001b[0m\n\u001b[0;32m    640\u001b[0m         \u001b[1;32mif\u001b[0m \u001b[1;32mnot\u001b[0m \u001b[1;33m(\u001b[0m\u001b[1;36m200\u001b[0m \u001b[1;33m<=\u001b[0m \u001b[0mcode\u001b[0m \u001b[1;33m<\u001b[0m \u001b[1;36m300\u001b[0m\u001b[1;33m)\u001b[0m\u001b[1;33m:\u001b[0m\u001b[1;33m\u001b[0m\u001b[0m\n\u001b[0;32m    641\u001b[0m             response = self.parent.error(\n\u001b[1;32m--> 642\u001b[1;33m                 'http', request, response, code, msg, hdrs)\n\u001b[0m\u001b[0;32m    643\u001b[0m \u001b[1;33m\u001b[0m\u001b[0m\n\u001b[0;32m    644\u001b[0m         \u001b[1;32mreturn\u001b[0m \u001b[0mresponse\u001b[0m\u001b[1;33m\u001b[0m\u001b[0m\n",
      "\u001b[1;32mc:\\program files (x86)\\lib\\urllib\\request.py\u001b[0m in \u001b[0;36merror\u001b[1;34m(self, proto, *args)\u001b[0m\n\u001b[0;32m    568\u001b[0m         \u001b[1;32mif\u001b[0m \u001b[0mhttp_err\u001b[0m\u001b[1;33m:\u001b[0m\u001b[1;33m\u001b[0m\u001b[0m\n\u001b[0;32m    569\u001b[0m             \u001b[0margs\u001b[0m \u001b[1;33m=\u001b[0m \u001b[1;33m(\u001b[0m\u001b[0mdict\u001b[0m\u001b[1;33m,\u001b[0m \u001b[1;34m'default'\u001b[0m\u001b[1;33m,\u001b[0m \u001b[1;34m'http_error_default'\u001b[0m\u001b[1;33m)\u001b[0m \u001b[1;33m+\u001b[0m \u001b[0morig_args\u001b[0m\u001b[1;33m\u001b[0m\u001b[0m\n\u001b[1;32m--> 570\u001b[1;33m             \u001b[1;32mreturn\u001b[0m \u001b[0mself\u001b[0m\u001b[1;33m.\u001b[0m\u001b[0m_call_chain\u001b[0m\u001b[1;33m(\u001b[0m\u001b[1;33m*\u001b[0m\u001b[0margs\u001b[0m\u001b[1;33m)\u001b[0m\u001b[1;33m\u001b[0m\u001b[0m\n\u001b[0m\u001b[0;32m    571\u001b[0m \u001b[1;33m\u001b[0m\u001b[0m\n\u001b[0;32m    572\u001b[0m \u001b[1;31m# XXX probably also want an abstract factory that knows when it makes\u001b[0m\u001b[1;33m\u001b[0m\u001b[1;33m\u001b[0m\u001b[0m\n",
      "\u001b[1;32mc:\\program files (x86)\\lib\\urllib\\request.py\u001b[0m in \u001b[0;36m_call_chain\u001b[1;34m(self, chain, kind, meth_name, *args)\u001b[0m\n\u001b[0;32m    502\u001b[0m         \u001b[1;32mfor\u001b[0m \u001b[0mhandler\u001b[0m \u001b[1;32min\u001b[0m \u001b[0mhandlers\u001b[0m\u001b[1;33m:\u001b[0m\u001b[1;33m\u001b[0m\u001b[0m\n\u001b[0;32m    503\u001b[0m             \u001b[0mfunc\u001b[0m \u001b[1;33m=\u001b[0m \u001b[0mgetattr\u001b[0m\u001b[1;33m(\u001b[0m\u001b[0mhandler\u001b[0m\u001b[1;33m,\u001b[0m \u001b[0mmeth_name\u001b[0m\u001b[1;33m)\u001b[0m\u001b[1;33m\u001b[0m\u001b[0m\n\u001b[1;32m--> 504\u001b[1;33m             \u001b[0mresult\u001b[0m \u001b[1;33m=\u001b[0m \u001b[0mfunc\u001b[0m\u001b[1;33m(\u001b[0m\u001b[1;33m*\u001b[0m\u001b[0margs\u001b[0m\u001b[1;33m)\u001b[0m\u001b[1;33m\u001b[0m\u001b[0m\n\u001b[0m\u001b[0;32m    505\u001b[0m             \u001b[1;32mif\u001b[0m \u001b[0mresult\u001b[0m \u001b[1;32mis\u001b[0m \u001b[1;32mnot\u001b[0m \u001b[1;32mNone\u001b[0m\u001b[1;33m:\u001b[0m\u001b[1;33m\u001b[0m\u001b[0m\n\u001b[0;32m    506\u001b[0m                 \u001b[1;32mreturn\u001b[0m \u001b[0mresult\u001b[0m\u001b[1;33m\u001b[0m\u001b[0m\n",
      "\u001b[1;32mc:\\program files (x86)\\lib\\urllib\\request.py\u001b[0m in \u001b[0;36mhttp_error_default\u001b[1;34m(self, req, fp, code, msg, hdrs)\u001b[0m\n\u001b[0;32m    648\u001b[0m \u001b[1;32mclass\u001b[0m \u001b[0mHTTPDefaultErrorHandler\u001b[0m\u001b[1;33m(\u001b[0m\u001b[0mBaseHandler\u001b[0m\u001b[1;33m)\u001b[0m\u001b[1;33m:\u001b[0m\u001b[1;33m\u001b[0m\u001b[0m\n\u001b[0;32m    649\u001b[0m     \u001b[1;32mdef\u001b[0m \u001b[0mhttp_error_default\u001b[0m\u001b[1;33m(\u001b[0m\u001b[0mself\u001b[0m\u001b[1;33m,\u001b[0m \u001b[0mreq\u001b[0m\u001b[1;33m,\u001b[0m \u001b[0mfp\u001b[0m\u001b[1;33m,\u001b[0m \u001b[0mcode\u001b[0m\u001b[1;33m,\u001b[0m \u001b[0mmsg\u001b[0m\u001b[1;33m,\u001b[0m \u001b[0mhdrs\u001b[0m\u001b[1;33m)\u001b[0m\u001b[1;33m:\u001b[0m\u001b[1;33m\u001b[0m\u001b[0m\n\u001b[1;32m--> 650\u001b[1;33m         \u001b[1;32mraise\u001b[0m \u001b[0mHTTPError\u001b[0m\u001b[1;33m(\u001b[0m\u001b[0mreq\u001b[0m\u001b[1;33m.\u001b[0m\u001b[0mfull_url\u001b[0m\u001b[1;33m,\u001b[0m \u001b[0mcode\u001b[0m\u001b[1;33m,\u001b[0m \u001b[0mmsg\u001b[0m\u001b[1;33m,\u001b[0m \u001b[0mhdrs\u001b[0m\u001b[1;33m,\u001b[0m \u001b[0mfp\u001b[0m\u001b[1;33m)\u001b[0m\u001b[1;33m\u001b[0m\u001b[0m\n\u001b[0m\u001b[0;32m    651\u001b[0m \u001b[1;33m\u001b[0m\u001b[0m\n\u001b[0;32m    652\u001b[0m \u001b[1;32mclass\u001b[0m \u001b[0mHTTPRedirectHandler\u001b[0m\u001b[1;33m(\u001b[0m\u001b[0mBaseHandler\u001b[0m\u001b[1;33m)\u001b[0m\u001b[1;33m:\u001b[0m\u001b[1;33m\u001b[0m\u001b[0m\n",
      "\u001b[1;31mHTTPError\u001b[0m: HTTP Error 401: Unauthorized"
     ]
    }
   ],
   "source": [
    "import urllib.request\n",
    "r=urllib.request.urlopen(\"http://59.71.246.127/?search=%E5%AF%86%E7%A0%81%E5%AD%A6\")\n",
    "#req.add_header(\"Authorization\",\"Basic cXFxOnFxcQ==\")\n",
    "html=r.read()\n",
    "f=open(\"a.html\",\"wb\")\n",
    "type(html)\n",
    "f.write(html)\n",
    "f.close()"
   ]
  },
  {
   "cell_type": "code",
   "execution_count": 16,
   "metadata": {
    "scrolled": true
   },
   "outputs": [
    {
     "data": {
      "text/plain": [
       "('C:\\\\Users\\\\Abao\\\\Desktop\\\\img\\\\32R58PICTeu.jpg',\n",
       " <http.client.HTTPMessage at 0x2224af3c860>)"
      ]
     },
     "execution_count": 16,
     "metadata": {},
     "output_type": "execute_result"
    },
    {
     "data": {
      "text/plain": [
       "('C:\\\\Users\\\\Abao\\\\Desktop\\\\img\\\\57f58PICwnR.jpg',\n",
       " <http.client.HTTPMessage at 0x2224aed32b0>)"
      ]
     },
     "execution_count": 16,
     "metadata": {},
     "output_type": "execute_result"
    },
    {
     "data": {
      "text/plain": [
       "('C:\\\\Users\\\\Abao\\\\Desktop\\\\img\\\\14F58PICrCj.jpg',\n",
       " <http.client.HTTPMessage at 0x2224aed3898>)"
      ]
     },
     "execution_count": 16,
     "metadata": {},
     "output_type": "execute_result"
    },
    {
     "data": {
      "text/plain": [
       "('C:\\\\Users\\\\Abao\\\\Desktop\\\\img\\\\56de5fb19f927.jpg',\n",
       " <http.client.HTTPMessage at 0x2224aed3518>)"
      ]
     },
     "execution_count": 16,
     "metadata": {},
     "output_type": "execute_result"
    },
    {
     "data": {
      "text/plain": [
       "('C:\\\\Users\\\\Abao\\\\Desktop\\\\img\\\\13458PIC5Xc.jpg',\n",
       " <http.client.HTTPMessage at 0x2224af3cd68>)"
      ]
     },
     "execution_count": 16,
     "metadata": {},
     "output_type": "execute_result"
    },
    {
     "data": {
      "text/plain": [
       "('C:\\\\Users\\\\Abao\\\\Desktop\\\\img\\\\69j58PICwvJ.jpg',\n",
       " <http.client.HTTPMessage at 0x2224aed32b0>)"
      ]
     },
     "execution_count": 16,
     "metadata": {},
     "output_type": "execute_result"
    },
    {
     "data": {
      "text/plain": [
       "('C:\\\\Users\\\\Abao\\\\Desktop\\\\img\\\\sd.jpg',\n",
       " <http.client.HTTPMessage at 0x2224aed3cc0>)"
      ]
     },
     "execution_count": 16,
     "metadata": {},
     "output_type": "execute_result"
    },
    {
     "data": {
      "text/plain": [
       "('C:\\\\Users\\\\Abao\\\\Desktop\\\\img\\\\14w58PICYxn.jpg',\n",
       " <http.client.HTTPMessage at 0x2224aed37f0>)"
      ]
     },
     "execution_count": 16,
     "metadata": {},
     "output_type": "execute_result"
    },
    {
     "data": {
      "text/plain": [
       "('C:\\\\Users\\\\Abao\\\\Desktop\\\\img\\\\71358PICh6B.jpg',\n",
       " <http.client.HTTPMessage at 0x2224af3c160>)"
      ]
     },
     "execution_count": 16,
     "metadata": {},
     "output_type": "execute_result"
    },
    {
     "data": {
      "text/plain": [
       "('C:\\\\Users\\\\Abao\\\\Desktop\\\\img\\\\61n58PICzK4.jpg',\n",
       " <http.client.HTTPMessage at 0x2224aed3358>)"
      ]
     },
     "execution_count": 16,
     "metadata": {},
     "output_type": "execute_result"
    },
    {
     "data": {
      "text/plain": [
       "('C:\\\\Users\\\\Abao\\\\Desktop\\\\img\\\\09s58PICCyA.jpg',\n",
       " <http.client.HTTPMessage at 0x2224aed3c88>)"
      ]
     },
     "execution_count": 16,
     "metadata": {},
     "output_type": "execute_result"
    },
    {
     "data": {
      "text/plain": [
       "('C:\\\\Users\\\\Abao\\\\Desktop\\\\img\\\\81h58PICJsY.jpg',\n",
       " <http.client.HTTPMessage at 0x2224aed32e8>)"
      ]
     },
     "execution_count": 16,
     "metadata": {},
     "output_type": "execute_result"
    },
    {
     "data": {
      "text/plain": [
       "('C:\\\\Users\\\\Abao\\\\Desktop\\\\img\\\\59p58PICfeg.jpg',\n",
       " <http.client.HTTPMessage at 0x2224aed3470>)"
      ]
     },
     "execution_count": 16,
     "metadata": {},
     "output_type": "execute_result"
    },
    {
     "data": {
      "text/plain": [
       "('C:\\\\Users\\\\Abao\\\\Desktop\\\\img\\\\56e8e7ecea46d.jpg',\n",
       " <http.client.HTTPMessage at 0x2224aed3278>)"
      ]
     },
     "execution_count": 16,
     "metadata": {},
     "output_type": "execute_result"
    },
    {
     "data": {
      "text/plain": [
       "('C:\\\\Users\\\\Abao\\\\Desktop\\\\img\\\\49T58PICDdz.jpg',\n",
       " <http.client.HTTPMessage at 0x2224aed3550>)"
      ]
     },
     "execution_count": 16,
     "metadata": {},
     "output_type": "execute_result"
    },
    {
     "data": {
      "text/plain": [
       "('C:\\\\Users\\\\Abao\\\\Desktop\\\\img\\\\5703530b107ea.jpg',\n",
       " <http.client.HTTPMessage at 0x2224af3cfd0>)"
      ]
     },
     "execution_count": 16,
     "metadata": {},
     "output_type": "execute_result"
    },
    {
     "data": {
      "text/plain": [
       "('C:\\\\Users\\\\Abao\\\\Desktop\\\\img\\\\lazypic.jpg',\n",
       " <http.client.HTTPMessage at 0x2224aed3470>)"
      ]
     },
     "execution_count": 16,
     "metadata": {},
     "output_type": "execute_result"
    },
    {
     "name": "stdout",
     "output_type": "stream",
     "text": [
      "失败\n"
     ]
    },
    {
     "data": {
      "text/plain": [
       "('C:\\\\Users\\\\Abao\\\\Desktop\\\\img\\\\40F58PICMyx.jpg',\n",
       " <http.client.HTTPMessage at 0x2224aed33c8>)"
      ]
     },
     "execution_count": 16,
     "metadata": {},
     "output_type": "execute_result"
    },
    {
     "data": {
      "text/plain": [
       "('C:\\\\Users\\\\Abao\\\\Desktop\\\\img\\\\42z58PICSr8.jpg',\n",
       " <http.client.HTTPMessage at 0x2224aed3048>)"
      ]
     },
     "execution_count": 16,
     "metadata": {},
     "output_type": "execute_result"
    },
    {
     "data": {
      "text/plain": [
       "('C:\\\\Users\\\\Abao\\\\Desktop\\\\img\\\\69N58PICnvh.jpg',\n",
       " <http.client.HTTPMessage at 0x2224af3cac8>)"
      ]
     },
     "execution_count": 16,
     "metadata": {},
     "output_type": "execute_result"
    },
    {
     "data": {
      "text/plain": [
       "('C:\\\\Users\\\\Abao\\\\Desktop\\\\img\\\\26M58PICutF.jpg',\n",
       " <http.client.HTTPMessage at 0x2224aed3470>)"
      ]
     },
     "execution_count": 16,
     "metadata": {},
     "output_type": "execute_result"
    },
    {
     "data": {
      "text/plain": [
       "('C:\\\\Users\\\\Abao\\\\Desktop\\\\img\\\\ad.png',\n",
       " <http.client.HTTPMessage at 0x2224aed33c8>)"
      ]
     },
     "execution_count": 16,
     "metadata": {},
     "output_type": "execute_result"
    },
    {
     "data": {
      "text/plain": [
       "('C:\\\\Users\\\\Abao\\\\Desktop\\\\img\\\\58PIC_nkeo1122_20091111bfcef8ea9888300b.jpg',\n",
       " <http.client.HTTPMessage at 0x2224aed3da0>)"
      ]
     },
     "execution_count": 16,
     "metadata": {},
     "output_type": "execute_result"
    },
    {
     "data": {
      "text/plain": [
       "('C:\\\\Users\\\\Abao\\\\Desktop\\\\img\\\\76u58PICrb5.jpg',\n",
       " <http.client.HTTPMessage at 0x2224af3cba8>)"
      ]
     },
     "execution_count": 16,
     "metadata": {},
     "output_type": "execute_result"
    },
    {
     "data": {
      "text/plain": [
       "('C:\\\\Users\\\\Abao\\\\Desktop\\\\img\\\\78V58PICNBW.jpg',\n",
       " <http.client.HTTPMessage at 0x2224aed3518>)"
      ]
     },
     "execution_count": 16,
     "metadata": {},
     "output_type": "execute_result"
    },
    {
     "data": {
      "text/plain": [
       "('C:\\\\Users\\\\Abao\\\\Desktop\\\\img\\\\96H58PICscy.jpg',\n",
       " <http.client.HTTPMessage at 0x2224aed3e10>)"
      ]
     },
     "execution_count": 16,
     "metadata": {},
     "output_type": "execute_result"
    },
    {
     "data": {
      "text/plain": [
       "('C:\\\\Users\\\\Abao\\\\Desktop\\\\img\\\\21758PICdwK.jpg',\n",
       " <http.client.HTTPMessage at 0x2224aed35c0>)"
      ]
     },
     "execution_count": 16,
     "metadata": {},
     "output_type": "execute_result"
    },
    {
     "data": {
      "text/plain": [
       "('C:\\\\Users\\\\Abao\\\\Desktop\\\\img\\\\user-img-default.png',\n",
       " <http.client.HTTPMessage at 0x2224af3c4e0>)"
      ]
     },
     "execution_count": 16,
     "metadata": {},
     "output_type": "execute_result"
    },
    {
     "data": {
      "text/plain": [
       "('C:\\\\Users\\\\Abao\\\\Desktop\\\\img\\\\58PIC_yy5561849_20091206ed13dafd5e915009.jpg',\n",
       " <http.client.HTTPMessage at 0x2224aed3908>)"
      ]
     },
     "execution_count": 16,
     "metadata": {},
     "output_type": "execute_result"
    },
    {
     "data": {
      "text/plain": [
       "('C:\\\\Users\\\\Abao\\\\Desktop\\\\img\\\\70T58PICF2i.jpg',\n",
       " <http.client.HTTPMessage at 0x2224aed3438>)"
      ]
     },
     "execution_count": 16,
     "metadata": {},
     "output_type": "execute_result"
    },
    {
     "data": {
      "text/plain": [
       "('C:\\\\Users\\\\Abao\\\\Desktop\\\\img\\\\wechat-g.png',\n",
       " <http.client.HTTPMessage at 0x2224aed3278>)"
      ]
     },
     "execution_count": 16,
     "metadata": {},
     "output_type": "execute_result"
    },
    {
     "data": {
      "text/plain": [
       "('C:\\\\Users\\\\Abao\\\\Desktop\\\\img\\\\43e58PICKsy.jpg',\n",
       " <http.client.HTTPMessage at 0x2224aed38d0>)"
      ]
     },
     "execution_count": 16,
     "metadata": {},
     "output_type": "execute_result"
    },
    {
     "data": {
      "text/plain": [
       "('C:\\\\Users\\\\Abao\\\\Desktop\\\\img\\\\88H58PICIKX.jpg',\n",
       " <http.client.HTTPMessage at 0x2224aed3f98>)"
      ]
     },
     "execution_count": 16,
     "metadata": {},
     "output_type": "execute_result"
    },
    {
     "data": {
      "text/plain": [
       "('C:\\\\Users\\\\Abao\\\\Desktop\\\\img\\\\32X58PICxBZ.jpg',\n",
       " <http.client.HTTPMessage at 0x2224aed3470>)"
      ]
     },
     "execution_count": 16,
     "metadata": {},
     "output_type": "execute_result"
    },
    {
     "data": {
      "text/plain": [
       "('C:\\\\Users\\\\Abao\\\\Desktop\\\\img\\\\575519f567e31.jpg',\n",
       " <http.client.HTTPMessage at 0x2224af3c6a0>)"
      ]
     },
     "execution_count": 16,
     "metadata": {},
     "output_type": "execute_result"
    },
    {
     "data": {
      "text/plain": [
       "('C:\\\\Users\\\\Abao\\\\Desktop\\\\img\\\\70f58PIC7qg.jpg',\n",
       " <http.client.HTTPMessage at 0x2224af3c2b0>)"
      ]
     },
     "execution_count": 16,
     "metadata": {},
     "output_type": "execute_result"
    },
    {
     "data": {
      "text/plain": [
       "('C:\\\\Users\\\\Abao\\\\Desktop\\\\img\\\\17y58PICXSD.jpg',\n",
       " <http.client.HTTPMessage at 0x2224aed3eb8>)"
      ]
     },
     "execution_count": 16,
     "metadata": {},
     "output_type": "execute_result"
    },
    {
     "data": {
      "text/plain": [
       "('C:\\\\Users\\\\Abao\\\\Desktop\\\\img\\\\81c58PICqhQ.jpg',\n",
       " <http.client.HTTPMessage at 0x2224aed35f8>)"
      ]
     },
     "execution_count": 16,
     "metadata": {},
     "output_type": "execute_result"
    },
    {
     "data": {
      "text/plain": [
       "('C:\\\\Users\\\\Abao\\\\Desktop\\\\img\\\\78bOOOPIC34.jpg',\n",
       " <http.client.HTTPMessage at 0x2224af3cac8>)"
      ]
     },
     "execution_count": 16,
     "metadata": {},
     "output_type": "execute_result"
    }
   ],
   "source": [
    "import urllib.request\n",
    "import socket\n",
    "import re\n",
    "import os\n",
    "import sys\n",
    "aimpath=r\"C:\\Users\\Abao\\Desktop\\img\"\n",
    "aimurl=r\"http://www.58pic.com/tupian/hehua.html\"\n",
    "\n",
    "def destFile(path):\n",
    "    if not os.path.isdir(aimpath):\n",
    "        os.mkdir(aimpath)\n",
    "    pos=path.rindex(\"/\")\n",
    "    t=os.path.join(aimpath,path[pos+1:])\n",
    "    return t\n",
    "\n",
    "\n",
    "\n",
    "webheaders = {'User-Agent':'Mozilla/5.0 (Windows NT 6.1; WOW64; rv:23.0) Gecko/20100101 Firefox/23.0'} \n",
    "req=urllib.request.Request(url=aimurl,headers=webheaders)  #请求头\n",
    "page=urllib.request.urlopen(req)  ##发送请求\n",
    "result=page.read()\n",
    "for link, t in set(re.findall(r'(http:[^\\s]*?(jpg|png|gif))', str(result))):  #正则表达式查找所有的图片  \n",
    "    try: \n",
    "        urllib.request.urlretrieve(link, destFile(link)) #下载图片\n",
    "    except:\n",
    "        print('失败') #异常抛出\n",
    "\n",
    "    "
   ]
  },
  {
   "cell_type": "code",
   "execution_count": 1,
   "metadata": {},
   "outputs": [
    {
     "name": "stdout",
     "output_type": "stream",
     "text": [
      "1\n"
     ]
    },
    {
     "data": {
      "text/plain": [
       "('C:\\\\Users\\\\Abao\\\\Desktop\\\\国外美图网\\\\Breakup-Image-Of-Couple-900x599.jpg',\n",
       " <http.client.HTTPMessage at 0x24df4af5d30>)"
      ]
     },
     "execution_count": 1,
     "metadata": {},
     "output_type": "execute_result"
    },
    {
     "name": "stdout",
     "output_type": "stream",
     "text": [
      "失败\n"
     ]
    },
    {
     "data": {
      "text/plain": [
       "('C:\\\\Users\\\\Abao\\\\Desktop\\\\国外美图网\\\\Birthday-Wishes-For-Love-Couple-420x140.jpg',\n",
       " <http.client.HTTPMessage at 0x24df4b18278>)"
      ]
     },
     "execution_count": 1,
     "metadata": {},
     "output_type": "execute_result"
    },
    {
     "data": {
      "text/plain": [
       "('C:\\\\Users\\\\Abao\\\\Desktop\\\\国外美图网\\\\Cute-Anime-Couple-58601.jpg',\n",
       " <http.client.HTTPMessage at 0x24df4b182b0>)"
      ]
     },
     "execution_count": 1,
     "metadata": {},
     "output_type": "execute_result"
    },
    {
     "data": {
      "text/plain": [
       "('C:\\\\Users\\\\Abao\\\\Desktop\\\\国外美图网\\\\Good-Night-Good-Night-Pictures-624x351.jpg',\n",
       " <http.client.HTTPMessage at 0x24df4b186d8>)"
      ]
     },
     "execution_count": 1,
     "metadata": {},
     "output_type": "execute_result"
    },
    {
     "data": {
      "text/plain": [
       "('C:\\\\Users\\\\Abao\\\\Desktop\\\\国外美图网\\\\Breakup-Image-Of-Couple.jpg',\n",
       " <http.client.HTTPMessage at 0x24df4b180f0>)"
      ]
     },
     "execution_count": 1,
     "metadata": {},
     "output_type": "execute_result"
    },
    {
     "data": {
      "text/plain": [
       "('C:\\\\Users\\\\Abao\\\\Desktop\\\\国外美图网\\\\Romantic-Couple-123013-860x500.jpg',\n",
       " <http.client.HTTPMessage at 0x24df4b18400>)"
      ]
     },
     "execution_count": 1,
     "metadata": {},
     "output_type": "execute_result"
    },
    {
     "data": {
      "text/plain": [
       "('C:\\\\Users\\\\Abao\\\\Desktop\\\\国外美图网\\\\Breakup-Image-Of-Couple-370x246.jpg',\n",
       " <http.client.HTTPMessage at 0x24df4b18630>)"
      ]
     },
     "execution_count": 1,
     "metadata": {},
     "output_type": "execute_result"
    },
    {
     "name": "stdout",
     "output_type": "stream",
     "text": [
      "失败\n"
     ]
    },
    {
     "data": {
      "text/plain": [
       "('C:\\\\Users\\\\Abao\\\\Desktop\\\\国外美图网\\\\Breakup-Image-Of-Couple-768x511.jpg',\n",
       " <http.client.HTTPMessage at 0x24df4b18b38>)"
      ]
     },
     "execution_count": 1,
     "metadata": {},
     "output_type": "execute_result"
    },
    {
     "data": {
      "text/plain": [
       "('C:\\\\Users\\\\Abao\\\\Desktop\\\\国外美图网\\\\Good-Night-Good-Night-Pictures.jpg',\n",
       " <http.client.HTTPMessage at 0x24df4b18748>)"
      ]
     },
     "execution_count": 1,
     "metadata": {},
     "output_type": "execute_result"
    },
    {
     "data": {
      "text/plain": [
       "('C:\\\\Users\\\\Abao\\\\Desktop\\\\国外美图网\\\\Cute-Anime-Couple-58601-310x194.jpg',\n",
       " <http.client.HTTPMessage at 0x24df4b184a8>)"
      ]
     },
     "execution_count": 1,
     "metadata": {},
     "output_type": "execute_result"
    },
    {
     "data": {
      "text/plain": [
       "('C:\\\\Users\\\\Abao\\\\Desktop\\\\国外美图网\\\\Birthday-Wishes-For-Love-Couple-900x300.jpg',\n",
       " <http.client.HTTPMessage at 0x24df4b18048>)"
      ]
     },
     "execution_count": 1,
     "metadata": {},
     "output_type": "execute_result"
    },
    {
     "data": {
      "text/plain": [
       "('C:\\\\Users\\\\Abao\\\\Desktop\\\\国外美图网\\\\Good-Night-Good-Night-Pictures-768x432.jpg',\n",
       " <http.client.HTTPMessage at 0x24df4b183c8>)"
      ]
     },
     "execution_count": 1,
     "metadata": {},
     "output_type": "execute_result"
    },
    {
     "data": {
      "text/plain": [
       "('C:\\\\Users\\\\Abao\\\\Desktop\\\\国外美图网\\\\Cute-Couple-159011-860x500.jpg',\n",
       " <http.client.HTTPMessage at 0x24df4b187f0>)"
      ]
     },
     "execution_count": 1,
     "metadata": {},
     "output_type": "execute_result"
    },
    {
     "data": {
      "text/plain": [
       "('C:\\\\Users\\\\Abao\\\\Desktop\\\\国外美图网\\\\cropped-cropped-cropped-LogoOne-2.jpg',\n",
       " <http.client.HTTPMessage at 0x24df4b186d8>)"
      ]
     },
     "execution_count": 1,
     "metadata": {},
     "output_type": "execute_result"
    },
    {
     "data": {
      "text/plain": [
       "('C:\\\\Users\\\\Abao\\\\Desktop\\\\国外美图网\\\\Breakup-Image-Of-Couple-624x415.jpg',\n",
       " <http.client.HTTPMessage at 0x24df4b18160>)"
      ]
     },
     "execution_count": 1,
     "metadata": {},
     "output_type": "execute_result"
    },
    {
     "data": {
      "text/plain": [
       "('C:\\\\Users\\\\Abao\\\\Desktop\\\\国外美图网\\\\Breakup-Image-Of-Couple-310x206.jpg',\n",
       " <http.client.HTTPMessage at 0x24df4af5fd0>)"
      ]
     },
     "execution_count": 1,
     "metadata": {},
     "output_type": "execute_result"
    },
    {
     "data": {
      "text/plain": [
       "('C:\\\\Users\\\\Abao\\\\Desktop\\\\国外美图网\\\\Breakup-Image-Of-Couple-800x532.jpg',\n",
       " <http.client.HTTPMessage at 0x24df4b187f0>)"
      ]
     },
     "execution_count": 1,
     "metadata": {},
     "output_type": "execute_result"
    },
    {
     "data": {
      "text/plain": [
       "('C:\\\\Users\\\\Abao\\\\Desktop\\\\国外美图网\\\\Breakup-Image-Of-Couple-1000x665.jpg',\n",
       " <http.client.HTTPMessage at 0x24df4b18b38>)"
      ]
     },
     "execution_count": 1,
     "metadata": {},
     "output_type": "execute_result"
    },
    {
     "data": {
      "text/plain": [
       "('C:\\\\Users\\\\Abao\\\\Desktop\\\\国外美图网\\\\Good-Night-Good-Night-Pictures-310x174.jpg',\n",
       " <http.client.HTTPMessage at 0x24df4b18ac8>)"
      ]
     },
     "execution_count": 1,
     "metadata": {},
     "output_type": "execute_result"
    }
   ],
   "source": [
    "import urllib.request\n",
    "import re\n",
    "import os\n",
    "#import urllib.error import \n",
    "import sys\n",
    "aimurl=r\"https://onehdwallpaper.com/category/love/\"\n",
    "localpath=r\"C:\\Users\\Abao\\Desktop\\精美图片\"\n",
    "def getApath(fileUrl):\n",
    "    if not os.path.isdir(localpath):\n",
    "        os.mkdir(localpath)\n",
    "    a=fileUrl.rindex(\"/\");\n",
    "    filepath=os.path.join(localpath,fileUrl[a+1:])\n",
    "    \n",
    "    return filepath\n",
    "user_agent=\"\"\n",
    "header = {'User-Agent':'Mozilla/5.0 (Windows NT 6.1; WOW64; rv:23.0) Gecko/20100101 Firefox/23.0'} \n",
    "r=urllib.request.Request(url=aimurl,headers=header)\n",
    "result=urllib.request.urlopen(r).read()\n",
    "\n",
    "print(\"1\")\n",
    "#print(result)\n",
    "\n",
    "for link, t in set(re.findall(r'(https:[^\\s]*?(jpg|png|gif))', str(result))):  #正则表达式查找所有的图片  \n",
    "    try: \n",
    "        urllib.request.urlretrieve(link, getApath(link)) #下载图片\n",
    "    except:\n",
    "        print('失败') #异常抛出"
   ]
  }
 ],
 "metadata": {
  "kernelspec": {
   "display_name": "Python 3",
   "language": "python",
   "name": "python3"
  },
  "language_info": {
   "codemirror_mode": {
    "name": "ipython",
    "version": 3
   },
   "file_extension": ".py",
   "mimetype": "text/x-python",
   "name": "python",
   "nbconvert_exporter": "python",
   "pygments_lexer": "ipython3",
   "version": "3.6.1"
  }
 },
 "nbformat": 4,
 "nbformat_minor": 2
}
