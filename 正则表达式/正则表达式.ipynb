{
 "cells": [
  {
   "cell_type": "markdown",
   "metadata": {},
   "source": [
    "### python的核心-----正则表达式"
   ]
  },
  {
   "cell_type": "code",
   "execution_count": 15,
   "metadata": {},
   "outputs": [
    {
     "name": "stdout",
     "output_type": "stream",
     "text": [
      "3.1411555\n",
      "64548.225\n"
     ]
    }
   ],
   "source": [
    "import re\n",
    "pattern=re.compile(\"\\d+\\.\\d*\")\n",
    "result=pattern.findall(\"3.1411555，65464，64548.225，5645984\")\n",
    "for item in result:\n",
    "    print(item)"
   ]
  },
  {
   "cell_type": "code",
   "execution_count": 21,
   "metadata": {},
   "outputs": [
    {
     "name": "stdout",
     "output_type": "stream",
     "text": [
      "['ssscr', 'ssscr']\n"
     ]
    }
   ],
   "source": [
    "import re\n",
    "pattern=re.compile(r\"http:(.*?)1\")\n",
    "s=r\"http:ssscr12http:ssscr12355 htttp:ssscr12\"\n",
    "result=pattern.findall(s)\n",
    "print(result)"
   ]
  },
  {
   "cell_type": "code",
   "execution_count": 1,
   "metadata": {
    "collapsed": true
   },
   "outputs": [],
   "source": [
    "import re\n",
    "\n",
    "def fun(myurl):\n",
    "    pattern=re.compile(r\"[https,http]://[.jpg,.png,.gif]\")\n",
    "    return myurl.findall(pattern\n",
    "                         \n",
    "                         \n",
    "\n",
    "\n",
    "\n",
    "    \n",
    "    \n",
    "    "
   ]
  },
  {
   "cell_type": "code",
   "execution_count": null,
   "metadata": {
    "collapsed": true
   },
   "outputs": [],
   "source": []
  }
 ],
 "metadata": {
  "kernelspec": {
   "display_name": "Python 3",
   "language": "python",
   "name": "python3"
  },
  "language_info": {
   "codemirror_mode": {
    "name": "ipython",
    "version": 3
   },
   "file_extension": ".py",
   "mimetype": "text/x-python",
   "name": "python",
   "nbconvert_exporter": "python",
   "pygments_lexer": "ipython3",
   "version": "3.6.1"
  }
 },
 "nbformat": 4,
 "nbformat_minor": 2
}
