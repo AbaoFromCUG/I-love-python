{
 "cells": [
  {
   "cell_type": "markdown",
   "metadata": {},
   "source": [
    "### 在次开始学习数据挖掘，做最后的挣扎\n",
    "#### 数据说明：每一行是一次记录，每一条记录五个数据点分别代表面包，牛奶，奶酪，苹果，香蕉"
   ]
  },
  {
   "cell_type": "markdown",
   "metadata": {},
   "source": [
    "#### mp.loadtxt()函数加载数据集"
   ]
  },
  {
   "cell_type": "code",
   "execution_count": 2,
   "metadata": {},
   "outputs": [
    {
     "name": "stdout",
     "output_type": "stream",
     "text": [
      "['bread', 'milk', 'cheese', 'apples', 'bananas']\n"
     ]
    }
   ],
   "source": [
    "import numpy as np\n",
    "dataset_filename=\"affinity_dataset.txt\"\n",
    "x=np.loadtxt(dataset_filename)\n",
    "n_samples,n_features=x.shape\n",
    "features=[\"bread\",\"milk\",\"cheese\",\"apples\",\"bananas\"]\n",
    "print(features)"
   ]
  },
  {
   "cell_type": "code",
   "execution_count": 3,
   "metadata": {},
   "outputs": [
    {
     "name": "stdout",
     "output_type": "stream",
     "text": [
      "There are 36 people buy apple\n"
     ]
    }
   ],
   "source": [
    "num_apple_purchases=0\n",
    "for a in x:\n",
    "    if a[3]==1:\n",
    "        num_apple_purchases=num_apple_purchases+1\n",
    "print(\"There are %d people buy apple\"%num_apple_purchases)"
   ]
  },
  {
   "cell_type": "markdown",
   "metadata": {},
   "source": [
    "#### 分别计算买了苹果并且买了香蕉\n",
    "#### 买了苹果，但是没有买香蕉的人数"
   ]
  },
  {
   "cell_type": "code",
   "execution_count": 4,
   "metadata": {},
   "outputs": [
    {
     "name": "stdout",
     "output_type": "stream",
     "text": [
      "有21个人，在买了苹果的同时买了香蕉\n",
      "有15个人，在买了苹果的同时没有买香蕉\n"
     ]
    }
   ],
   "source": [
    "rule_valid=0\n",
    "rule_invalid=0\n",
    "\n",
    "for sample in x:\n",
    "    if sample[3]==1:\n",
    "        if sample[4]==1:\n",
    "            rule_valid=rule_valid+1\n",
    "        else:\n",
    "            rule_invalid=rule_invalid+1\n",
    "\n",
    "print(\"有%d个人，在买了苹果的同时买了香蕉\"%rule_valid)\n",
    "print(\"有%d个人，在买了苹果的同时没有买香蕉\"%rule_invalid)           "
   ]
  },
  {
   "cell_type": "code",
   "execution_count": 5,
   "metadata": {},
   "outputs": [
    {
     "name": "stdout",
     "output_type": "stream",
     "text": [
      "支持度：验证的次数有21次\n",
      "置信度：验证的比例0.5833\n"
     ]
    }
   ],
   "source": [
    "print(\"支持度：验证的次数有%d次\"%rule_valid)\n",
    "print(\"置信度：验证的比例%.4f\"%(rule_valid/num_apple_purchases))"
   ]
  },
  {
   "cell_type": "code",
   "execution_count": 31,
   "metadata": {},
   "outputs": [
    {
     "name": "stdout",
     "output_type": "stream",
     "text": [
      "defaultdict(<class 'int'>, {(2, 3): 25, (2, 4): 27, (3, 2): 25, (3, 4): 21, (4, 2): 27, (4, 3): 21, (0, 1): 14, (0, 3): 5, (1, 0): 14, (1, 3): 9, (3, 0): 5, (3, 1): 9, (0, 2): 4, (2, 0): 4, (1, 4): 19, (4, 1): 19, (0, 4): 17, (4, 0): 17, (1, 2): 7, (2, 1): 7})\n"
     ]
    }
   ],
   "source": [
    "from collections import defaultdict\n",
    "valid_rules=defaultdict(int)\n",
    "invalid_rules=defaultdict(int)\n",
    "num_occurences=defaultdict(int)\n",
    "for sample in x:\n",
    "    for premise in range(n_features):\n",
    "        if sample[premise]==0:\n",
    "            continue\n",
    "        num_occurences[premise]+=1\n",
    "        for conclusion in range(n_features):\n",
    "            if premise==conclusion:\n",
    "                continue\n",
    "            if sample[conclusion]==1:\n",
    "                valid_rules[(premise,conclusion)]+=1\n",
    "            else:\n",
    "                invalid_rules[(premise,conclusion)]+=1\n",
    "support=valid_rules\n",
    "confidence=defaultdict(float)\n",
    "for premise, conclusion in valid_rules.keys():\n",
    "    confidence[(premise,conclusion)]=valid_rules[(premise,conclusion)]/num_occurences[premise]\n",
    "print(support)"
   ]
  },
  {
   "cell_type": "code",
   "execution_count": 36,
   "metadata": {
    "scrolled": true
   },
   "outputs": [
    {
     "name": "stdout",
     "output_type": "stream",
     "text": [
      "规则： 如果一个人买了cheese, 他也会买apples\n",
      "   置信度（confidence）：0.610\n",
      "   支持度（support）：25\n",
      "\n",
      "规则： 如果一个人买了cheese, 他也会买bananas\n",
      "   置信度（confidence）：0.659\n",
      "   支持度（support）：27\n",
      "\n",
      "规则： 如果一个人买了apples, 他也会买cheese\n",
      "   置信度（confidence）：0.694\n",
      "   支持度（support）：25\n",
      "\n",
      "规则： 如果一个人买了apples, 他也会买bananas\n",
      "   置信度（confidence）：0.583\n",
      "   支持度（support）：21\n",
      "\n",
      "规则： 如果一个人买了bananas, 他也会买cheese\n",
      "   置信度（confidence）：0.458\n",
      "   支持度（support）：27\n",
      "\n",
      "规则： 如果一个人买了bananas, 他也会买apples\n",
      "   置信度（confidence）：0.356\n",
      "   支持度（support）：21\n",
      "\n",
      "规则： 如果一个人买了bread, 他也会买milk\n",
      "   置信度（confidence）：0.519\n",
      "   支持度（support）：14\n",
      "\n",
      "规则： 如果一个人买了bread, 他也会买apples\n",
      "   置信度（confidence）：0.185\n",
      "   支持度（support）：5\n",
      "\n",
      "规则： 如果一个人买了milk, 他也会买bread\n",
      "   置信度（confidence）：0.304\n",
      "   支持度（support）：14\n",
      "\n",
      "规则： 如果一个人买了milk, 他也会买apples\n",
      "   置信度（confidence）：0.196\n",
      "   支持度（support）：9\n",
      "\n",
      "规则： 如果一个人买了apples, 他也会买bread\n",
      "   置信度（confidence）：0.139\n",
      "   支持度（support）：5\n",
      "\n",
      "规则： 如果一个人买了apples, 他也会买milk\n",
      "   置信度（confidence）：0.250\n",
      "   支持度（support）：9\n",
      "\n",
      "规则： 如果一个人买了bread, 他也会买cheese\n",
      "   置信度（confidence）：0.148\n",
      "   支持度（support）：4\n",
      "\n",
      "规则： 如果一个人买了cheese, 他也会买bread\n",
      "   置信度（confidence）：0.098\n",
      "   支持度（support）：4\n",
      "\n",
      "规则： 如果一个人买了milk, 他也会买bananas\n",
      "   置信度（confidence）：0.413\n",
      "   支持度（support）：19\n",
      "\n",
      "规则： 如果一个人买了bananas, 他也会买milk\n",
      "   置信度（confidence）：0.322\n",
      "   支持度（support）：19\n",
      "\n",
      "规则： 如果一个人买了bread, 他也会买bananas\n",
      "   置信度（confidence）：0.630\n",
      "   支持度（support）：17\n",
      "\n",
      "规则： 如果一个人买了bananas, 他也会买bread\n",
      "   置信度（confidence）：0.288\n",
      "   支持度（support）：17\n",
      "\n",
      "规则： 如果一个人买了milk, 他也会买cheese\n",
      "   置信度（confidence）：0.152\n",
      "   支持度（support）：7\n",
      "\n",
      "规则： 如果一个人买了cheese, 他也会买milk\n",
      "   置信度（confidence）：0.171\n",
      "   支持度（support）：7\n",
      "\n"
     ]
    }
   ],
   "source": [
    "for premise,conclusion in confidence:\n",
    "    premise_name=features[premise]\n",
    "    conclusion_name=features[conclusion]\n",
    "    print(\"规则： 如果一个人买了%s, 他也会买%s\"%(premise_name,conclusion_name))\n",
    "    print(\"   置信度（confidence）：%.3f\"%confidence[(premise,conclusion)])\n",
    "    print(\"   支持度（support）：%d\\n\"%support[(premise,conclusion)])"
   ]
  },
  {
   "cell_type": "code",
   "execution_count": 43,
   "metadata": {
    "scrolled": false
   },
   "outputs": [
    {
     "name": "stdout",
     "output_type": "stream",
     "text": [
      "规则： 如果一个人买了bread, 他也会买milk\n",
      "   置信度（confidence）：0.519\n",
      "   支持度（support）：14\n",
      "\n"
     ]
    }
   ],
   "source": [
    "def printInfor(premise,conclusion):\n",
    "    premise_name=features[premise]\n",
    "    conclusion_name=features[conclusion]\n",
    "    print(\"规则： 如果一个人买了%s, 他也会买%s\"%(premise_name,conclusion_name))\n",
    "    print(\"   置信度（confidence）：%.3f\"%confidence[(premise,conclusion)])\n",
    "    print(\"   支持度（support）：%d\\n\"%support[(premise,conclusion)])\n",
    "printInfor(0,1)"
   ]
  },
  {
   "cell_type": "code",
   "execution_count": 45,
   "metadata": {},
   "outputs": [
    {
     "name": "stdout",
     "output_type": "stream",
     "text": [
      "[((2, 3), 25),\n",
      " ((2, 4), 27),\n",
      " ((3, 2), 25),\n",
      " ((3, 4), 21),\n",
      " ((4, 2), 27),\n",
      " ((4, 3), 21),\n",
      " ((0, 1), 14),\n",
      " ((0, 3), 5),\n",
      " ((1, 0), 14),\n",
      " ((1, 3), 9),\n",
      " ((3, 0), 5),\n",
      " ((3, 1), 9),\n",
      " ((0, 2), 4),\n",
      " ((2, 0), 4),\n",
      " ((1, 4), 19),\n",
      " ((4, 1), 19),\n",
      " ((0, 4), 17),\n",
      " ((4, 0), 17),\n",
      " ((1, 2), 7),\n",
      " ((2, 1), 7)]\n"
     ]
    }
   ],
   "source": [
    "from pprint import  pprint\n",
    "#打印醋置信度列表\n",
    "## 把字典当元组输出\n",
    "pprint(list(support.items()))"
   ]
  },
  {
   "cell_type": "code",
   "execution_count": 49,
   "metadata": {},
   "outputs": [
    {
     "name": "stdout",
     "output_type": "stream",
     "text": [
      "[((2, 4), 27),\n",
      " ((4, 2), 27),\n",
      " ((2, 3), 25),\n",
      " ((3, 2), 25),\n",
      " ((3, 4), 21),\n",
      " ((4, 3), 21),\n",
      " ((1, 4), 19),\n",
      " ((4, 1), 19),\n",
      " ((0, 4), 17),\n",
      " ((4, 0), 17),\n",
      " ((0, 1), 14),\n",
      " ((1, 0), 14),\n",
      " ((1, 3), 9),\n",
      " ((3, 1), 9),\n",
      " ((1, 2), 7),\n",
      " ((2, 1), 7),\n",
      " ((0, 3), 5),\n",
      " ((3, 0), 5),\n",
      " ((0, 2), 4),\n",
      " ((2, 0), 4)]\n"
     ]
    }
   ],
   "source": [
    "from operator import itemgetter\n",
    "## support 仍然是字典，打印输出排序后\n",
    "sorted_support=sorted(support.items(),key=itemgetter(1),reverse=True)\n",
    "pprint(sorted_support)"
   ]
  },
  {
   "cell_type": "code",
   "execution_count": 50,
   "metadata": {},
   "outputs": [
    {
     "name": "stdout",
     "output_type": "stream",
     "text": [
      "排名第1的规则\n",
      "规则： 如果一个人买了cheese, 他也会买bananas\n",
      "   置信度（confidence）：0.659\n",
      "   支持度（support）：27\n",
      "\n",
      "排名第2的规则\n",
      "规则： 如果一个人买了bananas, 他也会买cheese\n",
      "   置信度（confidence）：0.458\n",
      "   支持度（support）：27\n",
      "\n",
      "排名第3的规则\n",
      "规则： 如果一个人买了cheese, 他也会买apples\n",
      "   置信度（confidence）：0.610\n",
      "   支持度（support）：25\n",
      "\n",
      "排名第4的规则\n",
      "规则： 如果一个人买了apples, 他也会买cheese\n",
      "   置信度（confidence）：0.694\n",
      "   支持度（support）：25\n",
      "\n",
      "排名第5的规则\n",
      "规则： 如果一个人买了apples, 他也会买bananas\n",
      "   置信度（confidence）：0.583\n",
      "   支持度（support）：21\n",
      "\n"
     ]
    }
   ],
   "source": [
    "for index in range(5):\n",
    "    print(\"排名第%d的规则\"%(index+1))\n",
    "    premise,conclusion=sorted_support[index][0]\n",
    "    printInfor(premise,conclusion)"
   ]
  }
 ],
 "metadata": {
  "kernelspec": {
   "display_name": "Python 3",
   "language": "python",
   "name": "python3"
  },
  "language_info": {
   "codemirror_mode": {
    "name": "ipython",
    "version": 3
   },
   "file_extension": ".py",
   "mimetype": "text/x-python",
   "name": "python",
   "nbconvert_exporter": "python",
   "pygments_lexer": "ipython3",
   "version": "3.6.1"
  }
 },
 "nbformat": 4,
 "nbformat_minor": 2
}
