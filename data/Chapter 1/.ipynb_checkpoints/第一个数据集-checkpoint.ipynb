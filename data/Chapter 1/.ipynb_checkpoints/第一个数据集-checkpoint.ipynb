{
 "cells": [
  {
   "cell_type": "markdown",
   "metadata": {},
   "source": [
    "### 在次开始学习数据挖掘，做最后的挣扎\n",
    "#### 数据说明：每一行是一次记录，每一条记录五个数据点分别代表面包，牛奶，奶酪，苹果，香蕉"
   ]
  },
  {
   "cell_type": "markdown",
   "metadata": {},
   "source": [
    "#### mp.loadtxt()函数加载数据集"
   ]
  },
  {
   "cell_type": "code",
   "execution_count": 31,
   "metadata": {},
   "outputs": [
    {
     "name": "stdout",
     "output_type": "stream",
     "text": [
      "['bread', 'milk', 'cheese', 'apples', 'bananas']\n"
     ]
    }
   ],
   "source": [
    "import numpy as np\n",
    "dataset_filename=\"affinity_dataset.txt\"\n",
    "x=np.loadtxt(dataset_filename)\n",
    "n_samples,n_features=x.shape\n",
    "features=[\"bread\",\"milk\",\"cheese\",\"apples\",\"bananas\"]\n",
    "print(features)"
   ]
  },
  {
   "cell_type": "code",
   "execution_count": 32,
   "metadata": {},
   "outputs": [
    {
     "name": "stdout",
     "output_type": "stream",
     "text": [
      "There are 36 people buy apple\n"
     ]
    }
   ],
   "source": [
    "num_apple_purchases=0\n",
    "for a in x:\n",
    "    if a[3]==1:\n",
    "        num_apple_purchases=num_apple_purchases+1\n",
    "print(\"There are %d people buy apple\"%num_apple_purchases)"
   ]
  },
  {
   "cell_type": "markdown",
   "metadata": {},
   "source": [
    "#### 分别计算买了苹果并且买了香蕉\n",
    "#### 买了苹果，但是没有买香蕉的人数"
   ]
  },
  {
   "cell_type": "code",
   "execution_count": 33,
   "metadata": {},
   "outputs": [
    {
     "name": "stdout",
     "output_type": "stream",
     "text": [
      "有21个人，在买了苹果的同时买了香蕉\n",
      "有15个人，在买了苹果的同时没有买香蕉\n"
     ]
    }
   ],
   "source": [
    "rule_valid=0\n",
    "rule_invalid=0\n",
    "\n",
    "for sample in x:\n",
    "    if sample[3]==1:\n",
    "        if sample[4]==1:\n",
    "            rule_valid=rule_valid+1\n",
    "        else:\n",
    "            rule_invalid=rule_invalid+1\n",
    "\n",
    "print(\"有%d个人，在买了苹果的同时买了香蕉\"%rule_valid)\n",
    "print(\"有%d个人，在买了苹果的同时没有买香蕉\"%rule_invalid)           "
   ]
  },
  {
   "cell_type": "code",
   "execution_count": 40,
   "metadata": {},
   "outputs": [
    {
     "name": "stdout",
     "output_type": "stream",
     "text": [
      "支持度：验证的次数有21次\n",
      "置信度：验证的比例0.5833\n",
      "36\n"
     ]
    }
   ],
   "source": [
    "print(\"支持度：验证的次数有%d次\"%rule_valid)\n",
    "print(\"置信度：验证的比例%.4f\"%(rule_valid/num_apple_purchases))"
   ]
  },
  {
   "cell_type": "code",
   "execution_count": null,
   "metadata": {
    "collapsed": true
   },
   "outputs": [],
   "source": []
  }
 ],
 "metadata": {
  "kernelspec": {
   "display_name": "Python 3",
   "language": "python",
   "name": "python3"
  },
  "language_info": {
   "codemirror_mode": {
    "name": "ipython",
    "version": 3
   },
   "file_extension": ".py",
   "mimetype": "text/x-python",
   "name": "python",
   "nbconvert_exporter": "python",
   "pygments_lexer": "ipython3",
   "version": "3.6.1"
  }
 },
 "nbformat": 4,
 "nbformat_minor": 2
}
