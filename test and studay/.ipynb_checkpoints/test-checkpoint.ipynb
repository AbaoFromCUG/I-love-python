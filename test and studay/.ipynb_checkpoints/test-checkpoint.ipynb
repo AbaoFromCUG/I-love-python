{
 "cells": [
  {
   "cell_type": "markdown",
   "metadata": {},
   "source": [
    "### 面向对象"
   ]
  },
  {
   "cell_type": "code",
   "execution_count": 8,
   "metadata": {},
   "outputs": [
    {
     "name": "stdout",
     "output_type": "stream",
     "text": [
      "车子轮子数量是4\n",
      "车子的颜色是red\n",
      "4\n"
     ]
    }
   ],
   "source": [
    "class people:\n",
    "    wheelNum=4;\n",
    "    color=\"red\"\n",
    "    def whatColor(self):\n",
    "        print(\"车子的颜色是%s\"%self.color)\n",
    "    def WheelNum(self):\n",
    "        print(\"车子轮子数量是%d\"%self.wheelNum)\n",
    "I=people();\n",
    "I.WheelNum()\n",
    "I.whatColor()\n",
    "print(I.wheelNum)"
   ]
  },
  {
   "cell_type": "markdown",
   "metadata": {},
   "source": [
    "### 私有成员"
   ]
  },
  {
   "cell_type": "code",
   "execution_count": 16,
   "metadata": {
    "scrolled": true
   },
   "outputs": [
    {
     "name": "stdout",
     "output_type": "stream",
     "text": [
      "车子轮子数量是4\n",
      "车子的颜色是red\n"
     ]
    },
    {
     "ename": "AttributeError",
     "evalue": "'people' object has no attribute 'wheelNum'",
     "output_type": "error",
     "traceback": [
      "\u001b[1;31m---------------------------------------------------------------------------\u001b[0m",
      "\u001b[1;31mAttributeError\u001b[0m                            Traceback (most recent call last)",
      "\u001b[1;32m<ipython-input-16-5a15d953950f>\u001b[0m in \u001b[0;36m<module>\u001b[1;34m()\u001b[0m\n\u001b[0;32m      9\u001b[0m \u001b[0mI\u001b[0m\u001b[1;33m.\u001b[0m\u001b[0mWheelNum\u001b[0m\u001b[1;33m(\u001b[0m\u001b[1;33m)\u001b[0m\u001b[1;33m\u001b[0m\u001b[0m\n\u001b[0;32m     10\u001b[0m \u001b[0mI\u001b[0m\u001b[1;33m.\u001b[0m\u001b[0mwhatColor\u001b[0m\u001b[1;33m(\u001b[0m\u001b[1;33m)\u001b[0m\u001b[1;33m\u001b[0m\u001b[0m\n\u001b[1;32m---> 11\u001b[1;33m \u001b[0mprint\u001b[0m\u001b[1;33m(\u001b[0m\u001b[0mI\u001b[0m\u001b[1;33m.\u001b[0m\u001b[0mwheelNum\u001b[0m\u001b[1;33m)\u001b[0m\u001b[1;31m#这段报错\u001b[0m\u001b[1;33m\u001b[0m\u001b[0m\n\u001b[0m",
      "\u001b[1;31mAttributeError\u001b[0m: 'people' object has no attribute 'wheelNum'"
     ]
    }
   ],
   "source": [
    "class people:\n",
    "    __wheelNum=4;\n",
    "    color=\"red\"\n",
    "    def whatColor(self):\n",
    "        print(\"车子的颜色是%s\"%self.color)\n",
    "    def WheelNum(self):\n",
    "        print(\"车子轮子数量是%d\"%self.__wheelNum)\n",
    "I=people();\n",
    "I.WheelNum()\n",
    "I.whatColor()\n",
    "print(I.wheelNum)#这段报错\n"
   ]
  },
  {
   "cell_type": "markdown",
   "metadata": {},
   "source": [
    "## 测试print的参数，发现是无限参数"
   ]
  },
  {
   "cell_type": "code",
   "execution_count": 15,
   "metadata": {},
   "outputs": [
    {
     "name": "stdout",
     "output_type": "stream",
     "text": [
      "这是一个数字: 12 12 1 2\n"
     ]
    }
   ],
   "source": [
    "print(\"这是一个数字:\",12,12,1,2)"
   ]
  },
  {
   "cell_type": "code",
   "execution_count": 35,
   "metadata": {},
   "outputs": [
    {
     "data": {
      "text/plain": [
       "True"
      ]
     },
     "execution_count": 35,
     "metadata": {},
     "output_type": "execute_result"
    },
    {
     "name": "stdout",
     "output_type": "stream",
     "text": [
      "{1, 3, 5, 23}\n"
     ]
    }
   ],
   "source": [
    "a={1,23,3}\n",
    "a.add(1)\n",
    "a.add(5)\n",
    "isinstance(a,set)\n",
    "print(a)"
   ]
  },
  {
   "cell_type": "code",
   "execution_count": 37,
   "metadata": {},
   "outputs": [
    {
     "data": {
      "text/plain": [
       "1"
      ]
     },
     "execution_count": 37,
     "metadata": {},
     "output_type": "execute_result"
    },
    {
     "data": {
      "text/plain": [
       "tuple"
      ]
     },
     "execution_count": 37,
     "metadata": {},
     "output_type": "execute_result"
    }
   ],
   "source": [
    "b=(1,23,33)\n",
    "b.count(1)\n",
    "type(b)"
   ]
  },
  {
   "cell_type": "code",
   "execution_count": null,
   "metadata": {
    "collapsed": true
   },
   "outputs": [],
   "source": []
  }
 ],
 "metadata": {
  "kernelspec": {
   "display_name": "Python 3",
   "language": "python",
   "name": "python3"
  },
  "language_info": {
   "codemirror_mode": {
    "name": "ipython",
    "version": 3
   },
   "file_extension": ".py",
   "mimetype": "text/x-python",
   "name": "python",
   "nbconvert_exporter": "python",
   "pygments_lexer": "ipython3",
   "version": "3.6.1"
  }
 },
 "nbformat": 4,
 "nbformat_minor": 2
}
