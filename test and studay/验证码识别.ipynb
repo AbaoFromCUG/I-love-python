{
 "cells": [
  {
   "cell_type": "markdown",
   "metadata": {},
   "source": [
    "## 学校网站验证码破解"
   ]
  },
  {
   "cell_type": "markdown",
   "metadata": {},
   "source": [
    "### 原料准备 https://portal.cug.edu.cn/zfca/captcha.htm\n",
    "### 学习资料http://www.cnblogs.com/beer/p/5672678.html\n",
    "### 本地的文件夹用于存放验证码C:\\Users\\Abao\\Desktop\\Pic\n",
    "\n",
    "#### 其中./Pic/original用来存放爬去下来的"
   ]
  },
  {
   "cell_type": "code",
   "execution_count": 1,
   "metadata": {
    "collapsed": true
   },
   "outputs": [],
   "source": [
    "__author__ = 'Abao'\n",
    "import os\n",
    "import socket\n",
    "import urllib.request\n",
    "import ssl\n",
    "from PIL import Image\n",
    "from libsvm.python.svm import *\n",
    "from libsvm.python.svmutil import *\n",
    "ssl._create_default_https_context = ssl._create_unverified_context\n",
    "socket.setdefaulttimeout(2 )"
   ]
  },
  {
   "cell_type": "code",
   "execution_count": 2,
   "metadata": {
    "collapsed": true
   },
   "outputs": [],
   "source": [
    "def getFilePath(num,filePath=r\"C:\\Users\\Abao\\Desktop\\Pic\\original\"):\n",
    "    return filePath+\"\\\\%d.png\"%num\n",
    "    pass"
   ]
  },
  {
   "cell_type": "markdown",
   "metadata": {},
   "source": [
    "## 准备工作:下载图片"
   ]
  },
  {
   "cell_type": "code",
   "execution_count": 3,
   "metadata": {
    "scrolled": true
   },
   "outputs": [
    {
     "data": {
      "text/plain": [
       "('C:\\\\Users\\\\Abao\\\\Desktop\\\\Pic\\\\original\\\\0.png',\n",
       " <http.client.HTTPMessage at 0x1951de47a58>)"
      ]
     },
     "execution_count": 3,
     "metadata": {},
     "output_type": "execute_result"
    },
    {
     "data": {
      "text/plain": [
       "('C:\\\\Users\\\\Abao\\\\Desktop\\\\Pic\\\\original\\\\1.png',\n",
       " <http.client.HTTPMessage at 0x1951de47ef0>)"
      ]
     },
     "execution_count": 3,
     "metadata": {},
     "output_type": "execute_result"
    },
    {
     "data": {
      "text/plain": [
       "('C:\\\\Users\\\\Abao\\\\Desktop\\\\Pic\\\\original\\\\2.png',\n",
       " <http.client.HTTPMessage at 0x1951de47f28>)"
      ]
     },
     "execution_count": 3,
     "metadata": {},
     "output_type": "execute_result"
    },
    {
     "data": {
      "text/plain": [
       "('C:\\\\Users\\\\Abao\\\\Desktop\\\\Pic\\\\original\\\\3.png',\n",
       " <http.client.HTTPMessage at 0x1951de630b8>)"
      ]
     },
     "execution_count": 3,
     "metadata": {},
     "output_type": "execute_result"
    },
    {
     "data": {
      "text/plain": [
       "('C:\\\\Users\\\\Abao\\\\Desktop\\\\Pic\\\\original\\\\4.png',\n",
       " <http.client.HTTPMessage at 0x1951de47da0>)"
      ]
     },
     "execution_count": 3,
     "metadata": {},
     "output_type": "execute_result"
    },
    {
     "data": {
      "text/plain": [
       "('C:\\\\Users\\\\Abao\\\\Desktop\\\\Pic\\\\original\\\\5.png',\n",
       " <http.client.HTTPMessage at 0x1951de479e8>)"
      ]
     },
     "execution_count": 3,
     "metadata": {},
     "output_type": "execute_result"
    },
    {
     "data": {
      "text/plain": [
       "('C:\\\\Users\\\\Abao\\\\Desktop\\\\Pic\\\\original\\\\6.png',\n",
       " <http.client.HTTPMessage at 0x1951de47a20>)"
      ]
     },
     "execution_count": 3,
     "metadata": {},
     "output_type": "execute_result"
    },
    {
     "data": {
      "text/plain": [
       "('C:\\\\Users\\\\Abao\\\\Desktop\\\\Pic\\\\original\\\\7.png',\n",
       " <http.client.HTTPMessage at 0x1951de47c88>)"
      ]
     },
     "execution_count": 3,
     "metadata": {},
     "output_type": "execute_result"
    },
    {
     "data": {
      "text/plain": [
       "('C:\\\\Users\\\\Abao\\\\Desktop\\\\Pic\\\\original\\\\8.png',\n",
       " <http.client.HTTPMessage at 0x1951de47b38>)"
      ]
     },
     "execution_count": 3,
     "metadata": {},
     "output_type": "execute_result"
    },
    {
     "data": {
      "text/plain": [
       "('C:\\\\Users\\\\Abao\\\\Desktop\\\\Pic\\\\original\\\\9.png',\n",
       " <http.client.HTTPMessage at 0x1951de47a58>)"
      ]
     },
     "execution_count": 3,
     "metadata": {},
     "output_type": "execute_result"
    },
    {
     "data": {
      "text/plain": [
       "('C:\\\\Users\\\\Abao\\\\Desktop\\\\Pic\\\\original\\\\10.png',\n",
       " <http.client.HTTPMessage at 0x1951de47f60>)"
      ]
     },
     "execution_count": 3,
     "metadata": {},
     "output_type": "execute_result"
    },
    {
     "data": {
      "text/plain": [
       "('C:\\\\Users\\\\Abao\\\\Desktop\\\\Pic\\\\original\\\\11.png',\n",
       " <http.client.HTTPMessage at 0x1951de47f98>)"
      ]
     },
     "execution_count": 3,
     "metadata": {},
     "output_type": "execute_result"
    },
    {
     "data": {
      "text/plain": [
       "('C:\\\\Users\\\\Abao\\\\Desktop\\\\Pic\\\\original\\\\12.png',\n",
       " <http.client.HTTPMessage at 0x1951de47ef0>)"
      ]
     },
     "execution_count": 3,
     "metadata": {},
     "output_type": "execute_result"
    },
    {
     "data": {
      "text/plain": [
       "('C:\\\\Users\\\\Abao\\\\Desktop\\\\Pic\\\\original\\\\13.png',\n",
       " <http.client.HTTPMessage at 0x1951de47eb8>)"
      ]
     },
     "execution_count": 3,
     "metadata": {},
     "output_type": "execute_result"
    },
    {
     "data": {
      "text/plain": [
       "('C:\\\\Users\\\\Abao\\\\Desktop\\\\Pic\\\\original\\\\14.png',\n",
       " <http.client.HTTPMessage at 0x1951de479e8>)"
      ]
     },
     "execution_count": 3,
     "metadata": {},
     "output_type": "execute_result"
    },
    {
     "data": {
      "text/plain": [
       "('C:\\\\Users\\\\Abao\\\\Desktop\\\\Pic\\\\original\\\\15.png',\n",
       " <http.client.HTTPMessage at 0x1951de47a20>)"
      ]
     },
     "execution_count": 3,
     "metadata": {},
     "output_type": "execute_result"
    },
    {
     "data": {
      "text/plain": [
       "('C:\\\\Users\\\\Abao\\\\Desktop\\\\Pic\\\\original\\\\16.png',\n",
       " <http.client.HTTPMessage at 0x1951de47f28>)"
      ]
     },
     "execution_count": 3,
     "metadata": {},
     "output_type": "execute_result"
    },
    {
     "data": {
      "text/plain": [
       "('C:\\\\Users\\\\Abao\\\\Desktop\\\\Pic\\\\original\\\\17.png',\n",
       " <http.client.HTTPMessage at 0x1951de47b38>)"
      ]
     },
     "execution_count": 3,
     "metadata": {},
     "output_type": "execute_result"
    },
    {
     "data": {
      "text/plain": [
       "('C:\\\\Users\\\\Abao\\\\Desktop\\\\Pic\\\\original\\\\18.png',\n",
       " <http.client.HTTPMessage at 0x1951de47da0>)"
      ]
     },
     "execution_count": 3,
     "metadata": {},
     "output_type": "execute_result"
    },
    {
     "data": {
      "text/plain": [
       "('C:\\\\Users\\\\Abao\\\\Desktop\\\\Pic\\\\original\\\\19.png',\n",
       " <http.client.HTTPMessage at 0x1951de47c18>)"
      ]
     },
     "execution_count": 3,
     "metadata": {},
     "output_type": "execute_result"
    },
    {
     "data": {
      "text/plain": [
       "('C:\\\\Users\\\\Abao\\\\Desktop\\\\Pic\\\\original\\\\20.png',\n",
       " <http.client.HTTPMessage at 0x1951de47f98>)"
      ]
     },
     "execution_count": 3,
     "metadata": {},
     "output_type": "execute_result"
    },
    {
     "data": {
      "text/plain": [
       "('C:\\\\Users\\\\Abao\\\\Desktop\\\\Pic\\\\original\\\\21.png',\n",
       " <http.client.HTTPMessage at 0x1951de47ef0>)"
      ]
     },
     "execution_count": 3,
     "metadata": {},
     "output_type": "execute_result"
    },
    {
     "data": {
      "text/plain": [
       "('C:\\\\Users\\\\Abao\\\\Desktop\\\\Pic\\\\original\\\\22.png',\n",
       " <http.client.HTTPMessage at 0x1951de47e10>)"
      ]
     },
     "execution_count": 3,
     "metadata": {},
     "output_type": "execute_result"
    },
    {
     "data": {
      "text/plain": [
       "('C:\\\\Users\\\\Abao\\\\Desktop\\\\Pic\\\\original\\\\23.png',\n",
       " <http.client.HTTPMessage at 0x1951de47e80>)"
      ]
     },
     "execution_count": 3,
     "metadata": {},
     "output_type": "execute_result"
    },
    {
     "data": {
      "text/plain": [
       "('C:\\\\Users\\\\Abao\\\\Desktop\\\\Pic\\\\original\\\\24.png',\n",
       " <http.client.HTTPMessage at 0x1951de479e8>)"
      ]
     },
     "execution_count": 3,
     "metadata": {},
     "output_type": "execute_result"
    },
    {
     "data": {
      "text/plain": [
       "('C:\\\\Users\\\\Abao\\\\Desktop\\\\Pic\\\\original\\\\25.png',\n",
       " <http.client.HTTPMessage at 0x1951de47f28>)"
      ]
     },
     "execution_count": 3,
     "metadata": {},
     "output_type": "execute_result"
    },
    {
     "data": {
      "text/plain": [
       "('C:\\\\Users\\\\Abao\\\\Desktop\\\\Pic\\\\original\\\\26.png',\n",
       " <http.client.HTTPMessage at 0x1951de47c88>)"
      ]
     },
     "execution_count": 3,
     "metadata": {},
     "output_type": "execute_result"
    },
    {
     "data": {
      "text/plain": [
       "('C:\\\\Users\\\\Abao\\\\Desktop\\\\Pic\\\\original\\\\27.png',\n",
       " <http.client.HTTPMessage at 0x1951de47b38>)"
      ]
     },
     "execution_count": 3,
     "metadata": {},
     "output_type": "execute_result"
    },
    {
     "data": {
      "text/plain": [
       "('C:\\\\Users\\\\Abao\\\\Desktop\\\\Pic\\\\original\\\\28.png',\n",
       " <http.client.HTTPMessage at 0x1951de47c18>)"
      ]
     },
     "execution_count": 3,
     "metadata": {},
     "output_type": "execute_result"
    },
    {
     "data": {
      "text/plain": [
       "('C:\\\\Users\\\\Abao\\\\Desktop\\\\Pic\\\\original\\\\29.png',\n",
       " <http.client.HTTPMessage at 0x1951de47cc0>)"
      ]
     },
     "execution_count": 3,
     "metadata": {},
     "output_type": "execute_result"
    },
    {
     "data": {
      "text/plain": [
       "('C:\\\\Users\\\\Abao\\\\Desktop\\\\Pic\\\\original\\\\30.png',\n",
       " <http.client.HTTPMessage at 0x1951de47f60>)"
      ]
     },
     "execution_count": 3,
     "metadata": {},
     "output_type": "execute_result"
    },
    {
     "data": {
      "text/plain": [
       "('C:\\\\Users\\\\Abao\\\\Desktop\\\\Pic\\\\original\\\\31.png',\n",
       " <http.client.HTTPMessage at 0x1951de47b00>)"
      ]
     },
     "execution_count": 3,
     "metadata": {},
     "output_type": "execute_result"
    },
    {
     "data": {
      "text/plain": [
       "('C:\\\\Users\\\\Abao\\\\Desktop\\\\Pic\\\\original\\\\32.png',\n",
       " <http.client.HTTPMessage at 0x1951de47e80>)"
      ]
     },
     "execution_count": 3,
     "metadata": {},
     "output_type": "execute_result"
    },
    {
     "data": {
      "text/plain": [
       "('C:\\\\Users\\\\Abao\\\\Desktop\\\\Pic\\\\original\\\\33.png',\n",
       " <http.client.HTTPMessage at 0x1951de47a58>)"
      ]
     },
     "execution_count": 3,
     "metadata": {},
     "output_type": "execute_result"
    },
    {
     "data": {
      "text/plain": [
       "('C:\\\\Users\\\\Abao\\\\Desktop\\\\Pic\\\\original\\\\34.png',\n",
       " <http.client.HTTPMessage at 0x1951de47da0>)"
      ]
     },
     "execution_count": 3,
     "metadata": {},
     "output_type": "execute_result"
    },
    {
     "data": {
      "text/plain": [
       "('C:\\\\Users\\\\Abao\\\\Desktop\\\\Pic\\\\original\\\\35.png',\n",
       " <http.client.HTTPMessage at 0x1951de47f28>)"
      ]
     },
     "execution_count": 3,
     "metadata": {},
     "output_type": "execute_result"
    },
    {
     "data": {
      "text/plain": [
       "('C:\\\\Users\\\\Abao\\\\Desktop\\\\Pic\\\\original\\\\36.png',\n",
       " <http.client.HTTPMessage at 0x1951de47b38>)"
      ]
     },
     "execution_count": 3,
     "metadata": {},
     "output_type": "execute_result"
    },
    {
     "data": {
      "text/plain": [
       "('C:\\\\Users\\\\Abao\\\\Desktop\\\\Pic\\\\original\\\\37.png',\n",
       " <http.client.HTTPMessage at 0x1951de47d30>)"
      ]
     },
     "execution_count": 3,
     "metadata": {},
     "output_type": "execute_result"
    },
    {
     "data": {
      "text/plain": [
       "('C:\\\\Users\\\\Abao\\\\Desktop\\\\Pic\\\\original\\\\38.png',\n",
       " <http.client.HTTPMessage at 0x1951de47f98>)"
      ]
     },
     "execution_count": 3,
     "metadata": {},
     "output_type": "execute_result"
    },
    {
     "data": {
      "text/plain": [
       "('C:\\\\Users\\\\Abao\\\\Desktop\\\\Pic\\\\original\\\\39.png',\n",
       " <http.client.HTTPMessage at 0x1951de47f60>)"
      ]
     },
     "execution_count": 3,
     "metadata": {},
     "output_type": "execute_result"
    },
    {
     "data": {
      "text/plain": [
       "('C:\\\\Users\\\\Abao\\\\Desktop\\\\Pic\\\\original\\\\40.png',\n",
       " <http.client.HTTPMessage at 0x1951de47b00>)"
      ]
     },
     "execution_count": 3,
     "metadata": {},
     "output_type": "execute_result"
    },
    {
     "data": {
      "text/plain": [
       "('C:\\\\Users\\\\Abao\\\\Desktop\\\\Pic\\\\original\\\\41.png',\n",
       " <http.client.HTTPMessage at 0x1951de47e80>)"
      ]
     },
     "execution_count": 3,
     "metadata": {},
     "output_type": "execute_result"
    },
    {
     "data": {
      "text/plain": [
       "('C:\\\\Users\\\\Abao\\\\Desktop\\\\Pic\\\\original\\\\42.png',\n",
       " <http.client.HTTPMessage at 0x1951de47fd0>)"
      ]
     },
     "execution_count": 3,
     "metadata": {},
     "output_type": "execute_result"
    },
    {
     "data": {
      "text/plain": [
       "('C:\\\\Users\\\\Abao\\\\Desktop\\\\Pic\\\\original\\\\43.png',\n",
       " <http.client.HTTPMessage at 0x1951de479e8>)"
      ]
     },
     "execution_count": 3,
     "metadata": {},
     "output_type": "execute_result"
    },
    {
     "data": {
      "text/plain": [
       "('C:\\\\Users\\\\Abao\\\\Desktop\\\\Pic\\\\original\\\\44.png',\n",
       " <http.client.HTTPMessage at 0x1951de47a20>)"
      ]
     },
     "execution_count": 3,
     "metadata": {},
     "output_type": "execute_result"
    },
    {
     "data": {
      "text/plain": [
       "('C:\\\\Users\\\\Abao\\\\Desktop\\\\Pic\\\\original\\\\45.png',\n",
       " <http.client.HTTPMessage at 0x1951de47dd8>)"
      ]
     },
     "execution_count": 3,
     "metadata": {},
     "output_type": "execute_result"
    },
    {
     "data": {
      "text/plain": [
       "('C:\\\\Users\\\\Abao\\\\Desktop\\\\Pic\\\\original\\\\46.png',\n",
       " <http.client.HTTPMessage at 0x1951de47978>)"
      ]
     },
     "execution_count": 3,
     "metadata": {},
     "output_type": "execute_result"
    },
    {
     "data": {
      "text/plain": [
       "('C:\\\\Users\\\\Abao\\\\Desktop\\\\Pic\\\\original\\\\47.png',\n",
       " <http.client.HTTPMessage at 0x1951de47eb8>)"
      ]
     },
     "execution_count": 3,
     "metadata": {},
     "output_type": "execute_result"
    },
    {
     "data": {
      "text/plain": [
       "('C:\\\\Users\\\\Abao\\\\Desktop\\\\Pic\\\\original\\\\48.png',\n",
       " <http.client.HTTPMessage at 0x1951de47f60>)"
      ]
     },
     "execution_count": 3,
     "metadata": {},
     "output_type": "execute_result"
    },
    {
     "data": {
      "text/plain": [
       "('C:\\\\Users\\\\Abao\\\\Desktop\\\\Pic\\\\original\\\\49.png',\n",
       " <http.client.HTTPMessage at 0x1951de47f98>)"
      ]
     },
     "execution_count": 3,
     "metadata": {},
     "output_type": "execute_result"
    }
   ],
   "source": [
    "localdir=r\"C:\\Users\\Abao\\Desktop\\Pic\\original\"\n",
    "\n",
    "aimUrl=\"https://portal.cug.edu.cn/zfca/captcha.htm\"\n",
    "if not os.path.isdir(localdir):\n",
    "    os.mkdir(localdir)\n",
    "    pass\n",
    "for i in range(250):\n",
    "    pass\n",
    "    urllib.request.urlretrieve(aimUrl,getFilePath(i)) #下载图片"
   ]
  },
  {
   "cell_type": "markdown",
   "metadata": {},
   "source": [
    "## 灰度-二值化图片"
   ]
  },
  {
   "cell_type": "code",
   "execution_count": 3,
   "metadata": {
    "collapsed": true
   },
   "outputs": [],
   "source": [
    "def get_bin_table(threshold=140):\n",
    "    table=[]\n",
    "    for i in range(256):\n",
    "        if i<threshold:\n",
    "            table.append(0)\n",
    "        else:\n",
    "            table.append(1)\n",
    "    return table\n",
    "def dealImg(img_path):\n",
    "    \"\"\"\n",
    "    处理图片，将每一张图片预处理\n",
    "    \"\"\"    \n",
    "    imge=Image.open(img_path)\n",
    "    imgry=imge.convert(\"L\")\n",
    "    table=get_bin_table()\n",
    "    out=imgry.point(table,\"1\")\n",
    "    out.save(getFilePath(i,filePath=\"C:\\\\Users\\\\Abao\\\\Desktop\\\\Pic\\\\firststep\"))\n",
    "for i in range(250):\n",
    "    continue\n",
    "    dealImg(getFilePath(i))\n"
   ]
  },
  {
   "cell_type": "markdown",
   "metadata": {},
   "source": [
    "## 说明单个数字宽15个像素点 高16个像素点\n",
    "## 切割图片\n",
    "### 第一张图片距离左边为两个像素点\n",
    "### 据下边界11个像素点\n",
    "### 第二张图片距离第一张图片左边12个像素点"
   ]
  },
  {
   "cell_type": "code",
   "execution_count": 9,
   "metadata": {
    "collapsed": true
   },
   "outputs": [],
   "source": [
    "def crop_imgs(img):\n",
    "    \"\"\"\n",
    "    将每一张四个数字的照片切割成上张图片\n",
    "    \n",
    "    \"\"\"\n",
    "    child_img_list=[]\n",
    "    for i in range(4):\n",
    "        x=1+i*(5+12)\n",
    "        y=3\n",
    "        child_img=img.crop((x,y,x+15,y+16))\n",
    "        child_img_list.append(child_img)\n",
    "    return child_img_list\n",
    "for i in range(250):\n",
    "    j=0\n",
    "    img_list=crop_imgs(Image.open(getFilePath(i,filePath=\"C:\\\\Users\\\\Abao\\\\Desktop\\\\Pic\\\\firststep\")))\n",
    "    for a in img_list:\n",
    "        a.save(\"C:\\\\Users\\\\Abao\\\\Desktop\\\\Pic\\\\crop\\\\%d-%d.png\"%(i,j))\n",
    "        j=j+1\n"
   ]
  },
  {
   "cell_type": "markdown",
   "metadata": {},
   "source": [
    "## 将一个数字图片数量化为一个31维的数据\n",
    "## 并且准备好测试集合"
   ]
  },
  {
   "cell_type": "code",
   "execution_count": 6,
   "metadata": {
    "collapsed": true
   },
   "outputs": [],
   "source": [
    "def get_feature(img):\n",
    "    \"\"\"\n",
    "    根据一张图片获取改图片的31维特征\n",
    "    \n",
    "    \"\"\"\n",
    "    width,height=img.size\n",
    "    pixel_list=[]\n",
    "    for y in range(height):\n",
    "        pix_cnt_x=0\n",
    "        for x in range(width):\n",
    "            if img.getpixel((x,y))==0:\n",
    "                pix_cnt_x+=1\n",
    "        pixel_list.append(pix_cnt_x)\n",
    "    \n",
    "    for x in range(width):\n",
    "        pix_cnt_y=0\n",
    "        for y in range(height):\n",
    "            if img.getpixel((x,y))==0:\n",
    "                pix_cnt_y+=1\n",
    "        pixel_list.append(pix_cnt_y)\n",
    "    return pixel_list\n",
    "def  getFile(num):\n",
    "    \"\"\"\n",
    "    将所有图片量化生产libsvm数据文件\n",
    "    传进的参数是图片数字（0,1，2，3，.......9）\n",
    "    \"\"\"\n",
    "    filePath=\"C:\\\\Users\\\\Abao\\\\Desktop\\\\Pic\\\\data\\\\%d.txt\"%num\n",
    "    file=open(filePath,\"w+\")\n",
    "    \n",
    "    #将一个数字的95张图片量化\n",
    "    for i in range(1,96):\n",
    "        img=Image.open(\"C:\\\\Users\\\\Abao\\\\Desktop\\\\Pic\\\\crop\\\\%d\\\\%d.png\"%(num,i))\n",
    "        img_data=get_feature(img)\n",
    "        file.write(\"%d \"%num)\n",
    "        for i in range(31):\n",
    "            status=img_data[i]\n",
    "            text=\"%d:%d \"%(i,status)\n",
    "            file.write(text)\n",
    "        file.write(\"\\n\")\n",
    "    file.close()"
   ]
  },
  {
   "cell_type": "code",
   "execution_count": 37,
   "metadata": {
    "collapsed": true
   },
   "outputs": [],
   "source": [
    "def train_svm_model(num):\n",
    "    \"\"\"\n",
    "    根据所得到的数据集合进行训练\n",
    "    先训练数字7的识别\n",
    "    \n",
    "    \"\"\"\n",
    "    svm_root=\"C:\\\\Users\\\\Abao\\\\Desktop\\\\Pic\\\\data\\\\%d.txt\"%num\n",
    "    y,x=svm_read_problem(svm_root)\n",
    "    model=svm_train(y,x)\n",
    "    model_path=\"C:\\\\Users\\\\Abao\\\\Desktop\\\\Pic\\\\model\\\\%d.svm\"%num\n",
    "    svm_save_model(model_path,model)\n",
    "    pass\n"
   ]
  },
  {
   "attachments": {
    "image.png": {
     "image/png": "[encoded data removed]"
    }
   },
   "cell_type": "markdown",
   "metadata": {},
   "source": [
    "## 测试了![image.png](attachment:image.png)"
   ]
  },
  {
   "cell_type": "code",
   "execution_count": 8,
   "metadata": {
    "collapsed": true
   },
   "outputs": [],
   "source": [
    "def getTestData(num):\n",
    "    \"\"\"\n",
    "    测试\n",
    "    \n",
    "    将所有测试用的图片量化生产libsvm数据文件\n",
    "    传进的参数是图片数字（0,1，2，3，.......9）\n",
    "    \"\"\"\n",
    "    filePath=\"C:\\\\Users\\\\Abao\\\\Desktop\\\\Pic\\\\data_test\\\\%d.txt\"%num\n",
    "    file=open(filePath,\"w+\")\n",
    "    \n",
    "    #将\n",
    "    for i in range(0,25):\n",
    "        img=Image.open(\"C:\\\\Users\\\\Abao\\\\Desktop\\\\Pic\\\\crop\\\\%dtest\\\\%d.png\"%(num,i))\n",
    "        img_data=get_feature(img)\n",
    "        file.write(\"%d \"%num)\n",
    "        for i in range(31):\n",
    "            status=img_data[i]\n",
    "            text=\"%d:%d \"%(i,status)\n",
    "            file.write(text)\n",
    "        file.write(\"\\n\")\n",
    "    file.close()\n",
    "getTestData(7)"
   ]
  },
  {
   "cell_type": "code",
   "execution_count": 18,
   "metadata": {},
   "outputs": [
    {
     "name": "stdout",
     "output_type": "stream",
     "text": [
      "Accuracy = 84% (21/25) (classification)\n",
      "[[1], [1], [1], [1], [1], [1], [1], [1], [1], [1], [1], [1], [1], [1], [1], [1], [1], [1], [1], [1], [1], [1], [1], [1], [1]]\n"
     ]
    }
   ],
   "source": [
    "def svm_model_test(num):\n",
    "    \"\"\"\n",
    "    使用测试集合进行测试\n",
    "\n",
    "    \"\"\"\n",
    "    text_root=\"C:\\\\Users\\\\Abao\\\\Desktop\\\\Pic\\\\data_test\\\\%d.txt\"%num\n",
    "    model_root=\"C:\\\\Users\\\\Abao\\\\Desktop\\\\Pic\\\\model\\\\%d.svm\"%num\n",
    "    test_y,test_x=svm_read_problem(text_root)\n",
    "    test_model=svm_load_model(model_root)\n",
    "    p_label,p_acc,p_val=svm_predict(test_y,test_x,test_model)\n",
    "    print(p_val)\n",
    "    \n",
    "svm_model_test(7)"
   ]
  }
 ],
 "metadata": {
  "kernelspec": {
   "display_name": "Python 3",
   "language": "python",
   "name": "python3"
  },
  "language_info": {
   "codemirror_mode": {
    "name": "ipython",
    "version": 3
   },
   "file_extension": ".py",
   "mimetype": "text/x-python",
   "name": "python",
   "nbconvert_exporter": "python",
   "pygments_lexer": "ipython3",
   "version": "3.6.1"
  }
 },
 "nbformat": 4,
 "nbformat_minor": 2
}
