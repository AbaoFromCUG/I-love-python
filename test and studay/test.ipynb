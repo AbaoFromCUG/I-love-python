{
 "cells": [
  {
   "cell_type": "markdown",
   "metadata": {},
   "source": [
    "### 面向对象"
   ]
  },
  {
   "cell_type": "code",
   "execution_count": 8,
   "metadata": {},
   "outputs": [
    {
     "name": "stdout",
     "output_type": "stream",
     "text": [
      "车子轮子数量是4\n",
      "车子的颜色是red\n",
      "4\n"
     ]
    }
   ],
   "source": [
    "class people:\n",
    "    wheelNum=4;\n",
    "    color=\"red\"\n",
    "    def whatColor(self):\n",
    "        print(\"车子的颜色是%s\"%self.color)\n",
    "    def WheelNum(self):\n",
    "        print(\"车子轮子数量是%d\"%self.wheelNum)\n",
    "I=people();\n",
    "I.WheelNum()\n",
    "I.whatColor()\n",
    "print(I.wheelNum)"
   ]
  },
  {
   "cell_type": "markdown",
   "metadata": {},
   "source": [
    "### 私有成员"
   ]
  },
  {
   "cell_type": "code",
   "execution_count": 16,
   "metadata": {
    "scrolled": true
   },
   "outputs": [
    {
     "name": "stdout",
     "output_type": "stream",
     "text": [
      "车子轮子数量是4\n",
      "车子的颜色是red\n"
     ]
    },
    {
     "ename": "AttributeError",
     "evalue": "'people' object has no attribute 'wheelNum'",
     "output_type": "error",
     "traceback": [
      "\u001b[1;31m---------------------------------------------------------------------------\u001b[0m",
      "\u001b[1;31mAttributeError\u001b[0m                            Traceback (most recent call last)",
      "\u001b[1;32m<ipython-input-16-5a15d953950f>\u001b[0m in \u001b[0;36m<module>\u001b[1;34m()\u001b[0m\n\u001b[0;32m      9\u001b[0m \u001b[0mI\u001b[0m\u001b[1;33m.\u001b[0m\u001b[0mWheelNum\u001b[0m\u001b[1;33m(\u001b[0m\u001b[1;33m)\u001b[0m\u001b[1;33m\u001b[0m\u001b[0m\n\u001b[0;32m     10\u001b[0m \u001b[0mI\u001b[0m\u001b[1;33m.\u001b[0m\u001b[0mwhatColor\u001b[0m\u001b[1;33m(\u001b[0m\u001b[1;33m)\u001b[0m\u001b[1;33m\u001b[0m\u001b[0m\n\u001b[1;32m---> 11\u001b[1;33m \u001b[0mprint\u001b[0m\u001b[1;33m(\u001b[0m\u001b[0mI\u001b[0m\u001b[1;33m.\u001b[0m\u001b[0mwheelNum\u001b[0m\u001b[1;33m)\u001b[0m\u001b[1;31m#这段报错\u001b[0m\u001b[1;33m\u001b[0m\u001b[0m\n\u001b[0m",
      "\u001b[1;31mAttributeError\u001b[0m: 'people' object has no attribute 'wheelNum'"
     ]
    }
   ],
   "source": [
    "class people:\n",
    "    __wheelNum=4;\n",
    "    color=\"red\"\n",
    "    def whatColor(self):\n",
    "        print(\"车子的颜色是%s\"%self.color)\n",
    "    def WheelNum(self):\n",
    "        print(\"车子轮子数量是%d\"%self.__wheelNum)\n",
    "I=people();\n",
    "I.WheelNum()\n",
    "I.whatColor()\n",
    "print(I.wheelNum)#这段报错\n"
   ]
  },
  {
   "cell_type": "markdown",
   "metadata": {},
   "source": [
    "## 测试print的参数，发现是无限参数"
   ]
  },
  {
   "cell_type": "code",
   "execution_count": 15,
   "metadata": {},
   "outputs": [
    {
     "name": "stdout",
     "output_type": "stream",
     "text": [
      "这是一个数字: 12 12 1 2\n"
     ]
    }
   ],
   "source": [
    "print(\"这是一个数字:\",12,12,1,2)"
   ]
  },
  {
   "cell_type": "code",
   "execution_count": 35,
   "metadata": {},
   "outputs": [
    {
     "data": {
      "text/plain": [
       "True"
      ]
     },
     "execution_count": 35,
     "metadata": {},
     "output_type": "execute_result"
    },
    {
     "name": "stdout",
     "output_type": "stream",
     "text": [
      "{1, 3, 5, 23}\n"
     ]
    }
   ],
   "source": [
    "a={1,23,3}\n",
    "a.add(1)\n",
    "a.add(5)\n",
    "isinstance(a,set)\n",
    "print(a)"
   ]
  },
  {
   "cell_type": "code",
   "execution_count": 37,
   "metadata": {},
   "outputs": [
    {
     "data": {
      "text/plain": [
       "1"
      ]
     },
     "execution_count": 37,
     "metadata": {},
     "output_type": "execute_result"
    },
    {
     "data": {
      "text/plain": [
       "tuple"
      ]
     },
     "execution_count": 37,
     "metadata": {},
     "output_type": "execute_result"
    }
   ],
   "source": [
    "b=(1,23,33)\n",
    "b.count(1)\n",
    "type(b)"
   ]
  },
  {
   "cell_type": "code",
   "execution_count": 12,
   "metadata": {},
   "outputs": [
    {
     "name": "stdout",
     "output_type": "stream",
     "text": [
      "对象被解析,此时他的名字Abao,他的年龄是12\n"
     ]
    }
   ],
   "source": [
    "class car:\n",
    "    def __init__(self,newName,newAge):\n",
    "        self.name=newName\n",
    "        self.age=newAge\n",
    "    def show(self):\n",
    "        print(\"对象他的名字%s,他的年龄是%d\"%(self.name,self.age))\n",
    "    def __del__(self):\n",
    "        print(\"对象被解析,此时他的名字%s,他的年龄是%d\"%(self.name,self.age))\n",
    "        \n",
    "a=car(\"Abao\",12)"
   ]
  },
  {
   "cell_type": "code",
   "execution_count": 3,
   "metadata": {},
   "outputs": [
    {
     "name": "stdout",
     "output_type": "stream",
     "text": [
      "猫 Bosi吃\n",
      "猫 Cat跑\n"
     ]
    }
   ],
   "source": [
    " # 定义一个父类，如下:\n",
    "class Cat:\n",
    "    name = '猫'\n",
    "\n",
    "    def run(self):\n",
    "        print(self.name,'Cat跑')\n",
    "\n",
    "\n",
    "\n",
    "# 定义一个子类，如下:\n",
    "class Bosi(Cat):\n",
    "\n",
    "    def eat(self):\n",
    "        print(self.name,'Bosi吃')\n",
    "\n",
    "\n",
    "bs = Bosi()\n",
    "\n",
    "bs.eat()\n",
    "\n",
    "bs.run()"
   ]
  },
  {
   "cell_type": "markdown",
   "metadata": {},
   "source": [
    "## 继承，包含带参构造器"
   ]
  },
  {
   "cell_type": "code",
   "execution_count": 4,
   "metadata": {
    "scrolled": true
   },
   "outputs": [
    {
     "name": "stdout",
     "output_type": "stream",
     "text": [
      "das Bosi吃\n",
      "das Cat跑\n"
     ]
    }
   ],
   "source": [
    " # 定义一个父类，如下:\n",
    "class Cat:\n",
    "    def __init__(self,newName):\n",
    "        self.name=newName\n",
    "    name = '猫'\n",
    "    def run(self):\n",
    "        print(self.name,'Cat跑')\n",
    "\n",
    "# 定义一个子类，如下:\n",
    "class Bosi(Cat):\n",
    "    def __init__(self,newName):\n",
    "        Cat.__init__(self,newName)\n",
    "        self.color=\"red\"\n",
    "\n",
    "    def eat(self):\n",
    "        print(self.name,'Bosi吃')\n",
    "\n",
    "\n",
    "bs = Bosi(\"das\")\n",
    "\n",
    "bs.eat()\n",
    "\n",
    "bs.run()"
   ]
  },
  {
   "cell_type": "markdown",
   "metadata": {
    "collapsed": true
   },
   "source": [
    "### 翻页测试"
   ]
  },
  {
   "cell_type": "code",
   "execution_count": 2,
   "metadata": {
    "collapsed": true
   },
   "outputs": [],
   "source": [
    "import os\n",
    "folder = r\"C:\\Users\\Abao\\Desktop\\煎蛋网\"\n",
    "for pageNum in range(1,101):\n",
    "    pageSign=\"\\\\page%d\"%pageNum\n",
    "    newpage=folder+pageSign\n",
    "    #print(newpage)"
   ]
  },
  {
   "cell_type": "code",
   "execution_count": 6,
   "metadata": {},
   "outputs": [
    {
     "name": "stdout",
     "output_type": "stream",
     "text": [
      "2\n"
     ]
    }
   ],
   "source": [
    "test_num_x=1\n",
    "test_num_x+=1\n",
    "print(test_num_x)"
   ]
  },
  {
   "cell_type": "markdown",
   "metadata": {},
   "source": [
    "## zip"
   ]
  },
  {
   "cell_type": "code",
   "execution_count": 1,
   "metadata": {},
   "outputs": [
    {
     "name": "stdout",
     "output_type": "stream",
     "text": [
      "<zip object at 0x000001DBC936F808>\n",
      "([1, 2, 3], 1)\n",
      "([4, 5, 6], -1)\n"
     ]
    }
   ],
   "source": [
    "a=[[1,2,3],[4,5,6]]\n",
    "b=[1,-1]\n",
    "c=zip(a,b)\n",
    "print(c)\n",
    "for t in c:\n",
    "    print(t)"
   ]
  },
  {
   "cell_type": "code",
   "execution_count": 2,
   "metadata": {},
   "outputs": [
    {
     "ename": "ModuleNotFoundError",
     "evalue": "No module named 'scipy'",
     "output_type": "error",
     "traceback": [
      "\u001b[1;31m---------------------------------------------------------------------------\u001b[0m",
      "\u001b[1;31mModuleNotFoundError\u001b[0m                       Traceback (most recent call last)",
      "\u001b[1;32m<ipython-input-2-4dc45f4c0083>\u001b[0m in \u001b[0;36m<module>\u001b[1;34m()\u001b[0m\n\u001b[1;32m----> 1\u001b[1;33m \u001b[1;32mimport\u001b[0m \u001b[0mscipy\u001b[0m\u001b[1;33m\u001b[0m\u001b[0m\n\u001b[0m",
      "\u001b[1;31mModuleNotFoundError\u001b[0m: No module named 'scipy'"
     ]
    }
   ],
   "source": [
    "import scipy\n"
   ]
  }
 ],
 "metadata": {
  "kernelspec": {
   "display_name": "Python 3",
   "language": "python",
   "name": "python3"
  },
  "language_info": {
   "codemirror_mode": {
    "name": "ipython",
    "version": 3
   },
   "file_extension": ".py",
   "mimetype": "text/x-python",
   "name": "python",
   "nbconvert_exporter": "python",
   "pygments_lexer": "ipython3",
   "version": "3.6.1"
  }
 },
 "nbformat": 4,
 "nbformat_minor": 2
}
