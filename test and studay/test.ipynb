{
 "cells": [
  {
   "cell_type": "markdown",
   "metadata": {},
   "source": [
    "### 面向对象"
   ]
  },
  {
   "cell_type": "code",
   "execution_count": 8,
   "metadata": {},
   "outputs": [
    {
     "name": "stdout",
     "output_type": "stream",
     "text": [
      "车子轮子数量是4\n",
      "车子的颜色是red\n",
      "4\n"
     ]
    }
   ],
   "source": [
    "class people:\n",
    "    wheelNum=4;\n",
    "    color=\"red\"\n",
    "    def whatColor(self):\n",
    "        print(\"车子的颜色是%s\"%self.color)\n",
    "    def WheelNum(self):\n",
    "        print(\"车子轮子数量是%d\"%self.wheelNum)\n",
    "I=people();\n",
    "I.WheelNum()\n",
    "I.whatColor()\n",
    "print(I.wheelNum)"
   ]
  },
  {
   "cell_type": "markdown",
   "metadata": {},
   "source": [
    "### 私有成员"
   ]
  },
  {
   "cell_type": "code",
   "execution_count": 16,
   "metadata": {
    "scrolled": true
   },
   "outputs": [
    {
     "name": "stdout",
     "output_type": "stream",
     "text": [
      "车子轮子数量是4\n",
      "车子的颜色是red\n"
     ]
    },
    {
     "ename": "AttributeError",
     "evalue": "'people' object has no attribute 'wheelNum'",
     "output_type": "error",
     "traceback": [
      "\u001b[1;31m---------------------------------------------------------------------------\u001b[0m",
      "\u001b[1;31mAttributeError\u001b[0m                            Traceback (most recent call last)",
      "\u001b[1;32m<ipython-input-16-5a15d953950f>\u001b[0m in \u001b[0;36m<module>\u001b[1;34m()\u001b[0m\n\u001b[0;32m      9\u001b[0m \u001b[0mI\u001b[0m\u001b[1;33m.\u001b[0m\u001b[0mWheelNum\u001b[0m\u001b[1;33m(\u001b[0m\u001b[1;33m)\u001b[0m\u001b[1;33m\u001b[0m\u001b[0m\n\u001b[0;32m     10\u001b[0m \u001b[0mI\u001b[0m\u001b[1;33m.\u001b[0m\u001b[0mwhatColor\u001b[0m\u001b[1;33m(\u001b[0m\u001b[1;33m)\u001b[0m\u001b[1;33m\u001b[0m\u001b[0m\n\u001b[1;32m---> 11\u001b[1;33m \u001b[0mprint\u001b[0m\u001b[1;33m(\u001b[0m\u001b[0mI\u001b[0m\u001b[1;33m.\u001b[0m\u001b[0mwheelNum\u001b[0m\u001b[1;33m)\u001b[0m\u001b[1;31m#这段报错\u001b[0m\u001b[1;33m\u001b[0m\u001b[0m\n\u001b[0m",
      "\u001b[1;31mAttributeError\u001b[0m: 'people' object has no attribute 'wheelNum'"
     ]
    }
   ],
   "source": [
    "class people:\n",
    "    __wheelNum=4;\n",
    "    color=\"red\"\n",
    "    def whatColor(self):\n",
    "        print(\"车子的颜色是%s\"%self.color)\n",
    "    def WheelNum(self):\n",
    "        print(\"车子轮子数量是%d\"%self.__wheelNum)\n",
    "I=people();\n",
    "I.WheelNum()\n",
    "I.whatColor()\n",
    "print(I.wheelNum)#这段报错\n"
   ]
  },
  {
   "cell_type": "markdown",
   "metadata": {},
   "source": [
    "## 测试print的参数，发现是无限参数"
   ]
  },
  {
   "cell_type": "code",
   "execution_count": 15,
   "metadata": {},
   "outputs": [
    {
     "name": "stdout",
     "output_type": "stream",
     "text": [
      "这是一个数字: 12 12 1 2\n"
     ]
    }
   ],
   "source": [
    "print(\"这是一个数字:\",12,12,1,2)"
   ]
  },
  {
   "cell_type": "code",
   "execution_count": 35,
   "metadata": {},
   "outputs": [
    {
     "data": {
      "text/plain": [
       "True"
      ]
     },
     "execution_count": 35,
     "metadata": {},
     "output_type": "execute_result"
    },
    {
     "name": "stdout",
     "output_type": "stream",
     "text": [
      "{1, 3, 5, 23}\n"
     ]
    }
   ],
   "source": [
    "a={1,23,3}\n",
    "a.add(1)\n",
    "a.add(5)\n",
    "isinstance(a,set)\n",
    "print(a)"
   ]
  },
  {
   "cell_type": "code",
   "execution_count": 37,
   "metadata": {},
   "outputs": [
    {
     "data": {
      "text/plain": [
       "1"
      ]
     },
     "execution_count": 37,
     "metadata": {},
     "output_type": "execute_result"
    },
    {
     "data": {
      "text/plain": [
       "tuple"
      ]
     },
     "execution_count": 37,
     "metadata": {},
     "output_type": "execute_result"
    }
   ],
   "source": [
    "b=(1,23,33)\n",
    "b.count(1)\n",
    "type(b)"
   ]
  },
  {
   "cell_type": "code",
   "execution_count": 12,
   "metadata": {},
   "outputs": [
    {
     "name": "stdout",
     "output_type": "stream",
     "text": [
      "对象被解析,此时他的名字Abao,他的年龄是12\n"
     ]
    }
   ],
   "source": [
    "class car:\n",
    "    def __init__(self,newName,newAge):\n",
    "        self.name=newName\n",
    "        self.age=newAge\n",
    "    def show(self):\n",
    "        print(\"对象他的名字%s,他的年龄是%d\"%(self.name,self.age))\n",
    "    def __del__(self):\n",
    "        print(\"对象被解析,此时他的名字%s,他的年龄是%d\"%(self.name,self.age))\n",
    "        \n",
    "a=car(\"Abao\",12)"
   ]
  },
  {
   "cell_type": "code",
   "execution_count": 3,
   "metadata": {},
   "outputs": [
    {
     "name": "stdout",
     "output_type": "stream",
     "text": [
      "猫 Bosi吃\n",
      "猫 Cat跑\n"
     ]
    }
   ],
   "source": [
    " # 定义一个父类，如下:\n",
    "class Cat:\n",
    "    name = '猫'\n",
    "\n",
    "    def run(self):\n",
    "        print(self.name,'Cat跑')\n",
    "\n",
    "\n",
    "\n",
    "# 定义一个子类，如下:\n",
    "class Bosi(Cat):\n",
    "\n",
    "    def eat(self):\n",
    "        print(self.name,'Bosi吃')\n",
    "\n",
    "\n",
    "bs = Bosi()\n",
    "\n",
    "bs.eat()\n",
    "\n",
    "bs.run()"
   ]
  },
  {
   "cell_type": "markdown",
   "metadata": {},
   "source": [
    "## 继承，包含带参构造器"
   ]
  },
  {
   "cell_type": "code",
   "execution_count": 4,
   "metadata": {
    "scrolled": true
   },
   "outputs": [
    {
     "name": "stdout",
     "output_type": "stream",
     "text": [
      "das Bosi吃\n",
      "das Cat跑\n"
     ]
    }
   ],
   "source": [
    " # 定义一个父类，如下:\n",
    "class Cat:\n",
    "    def __init__(self,newName):\n",
    "        self.name=newName\n",
    "    name = '猫'\n",
    "    def run(self):\n",
    "        print(self.name,'Cat跑')\n",
    "\n",
    "# 定义一个子类，如下:\n",
    "class Bosi(Cat):\n",
    "    def __init__(self,newName):\n",
    "        Cat.__init__(self,newName)\n",
    "        self.color=\"red\"\n",
    "\n",
    "    def eat(self):\n",
    "        print(self.name,'Bosi吃')\n",
    "\n",
    "\n",
    "bs = Bosi(\"das\")\n",
    "\n",
    "bs.eat()\n",
    "\n",
    "bs.run()"
   ]
  },
  {
   "cell_type": "markdown",
   "metadata": {
    "collapsed": true
   },
   "source": [
    "### 翻页测试"
   ]
  },
  {
   "cell_type": "code",
   "execution_count": 9,
   "metadata": {},
   "outputs": [
    {
     "name": "stdout",
     "output_type": "stream",
     "text": [
      "C:\\Users\\Abao\\Desktop\\煎蛋网\\page1\n",
      "C:\\Users\\Abao\\Desktop\\煎蛋网\\page2\n",
      "C:\\Users\\Abao\\Desktop\\煎蛋网\\page3\n",
      "C:\\Users\\Abao\\Desktop\\煎蛋网\\page4\n",
      "C:\\Users\\Abao\\Desktop\\煎蛋网\\page5\n",
      "C:\\Users\\Abao\\Desktop\\煎蛋网\\page6\n",
      "C:\\Users\\Abao\\Desktop\\煎蛋网\\page7\n",
      "C:\\Users\\Abao\\Desktop\\煎蛋网\\page8\n",
      "C:\\Users\\Abao\\Desktop\\煎蛋网\\page9\n",
      "C:\\Users\\Abao\\Desktop\\煎蛋网\\page10\n",
      "C:\\Users\\Abao\\Desktop\\煎蛋网\\page11\n",
      "C:\\Users\\Abao\\Desktop\\煎蛋网\\page12\n",
      "C:\\Users\\Abao\\Desktop\\煎蛋网\\page13\n",
      "C:\\Users\\Abao\\Desktop\\煎蛋网\\page14\n",
      "C:\\Users\\Abao\\Desktop\\煎蛋网\\page15\n",
      "C:\\Users\\Abao\\Desktop\\煎蛋网\\page16\n",
      "C:\\Users\\Abao\\Desktop\\煎蛋网\\page17\n",
      "C:\\Users\\Abao\\Desktop\\煎蛋网\\page18\n",
      "C:\\Users\\Abao\\Desktop\\煎蛋网\\page19\n",
      "C:\\Users\\Abao\\Desktop\\煎蛋网\\page20\n",
      "C:\\Users\\Abao\\Desktop\\煎蛋网\\page21\n",
      "C:\\Users\\Abao\\Desktop\\煎蛋网\\page22\n",
      "C:\\Users\\Abao\\Desktop\\煎蛋网\\page23\n",
      "C:\\Users\\Abao\\Desktop\\煎蛋网\\page24\n",
      "C:\\Users\\Abao\\Desktop\\煎蛋网\\page25\n",
      "C:\\Users\\Abao\\Desktop\\煎蛋网\\page26\n",
      "C:\\Users\\Abao\\Desktop\\煎蛋网\\page27\n",
      "C:\\Users\\Abao\\Desktop\\煎蛋网\\page28\n",
      "C:\\Users\\Abao\\Desktop\\煎蛋网\\page29\n",
      "C:\\Users\\Abao\\Desktop\\煎蛋网\\page30\n",
      "C:\\Users\\Abao\\Desktop\\煎蛋网\\page31\n",
      "C:\\Users\\Abao\\Desktop\\煎蛋网\\page32\n",
      "C:\\Users\\Abao\\Desktop\\煎蛋网\\page33\n",
      "C:\\Users\\Abao\\Desktop\\煎蛋网\\page34\n",
      "C:\\Users\\Abao\\Desktop\\煎蛋网\\page35\n",
      "C:\\Users\\Abao\\Desktop\\煎蛋网\\page36\n",
      "C:\\Users\\Abao\\Desktop\\煎蛋网\\page37\n",
      "C:\\Users\\Abao\\Desktop\\煎蛋网\\page38\n",
      "C:\\Users\\Abao\\Desktop\\煎蛋网\\page39\n",
      "C:\\Users\\Abao\\Desktop\\煎蛋网\\page40\n",
      "C:\\Users\\Abao\\Desktop\\煎蛋网\\page41\n",
      "C:\\Users\\Abao\\Desktop\\煎蛋网\\page42\n",
      "C:\\Users\\Abao\\Desktop\\煎蛋网\\page43\n",
      "C:\\Users\\Abao\\Desktop\\煎蛋网\\page44\n",
      "C:\\Users\\Abao\\Desktop\\煎蛋网\\page45\n",
      "C:\\Users\\Abao\\Desktop\\煎蛋网\\page46\n",
      "C:\\Users\\Abao\\Desktop\\煎蛋网\\page47\n",
      "C:\\Users\\Abao\\Desktop\\煎蛋网\\page48\n",
      "C:\\Users\\Abao\\Desktop\\煎蛋网\\page49\n",
      "C:\\Users\\Abao\\Desktop\\煎蛋网\\page50\n",
      "C:\\Users\\Abao\\Desktop\\煎蛋网\\page51\n",
      "C:\\Users\\Abao\\Desktop\\煎蛋网\\page52\n",
      "C:\\Users\\Abao\\Desktop\\煎蛋网\\page53\n",
      "C:\\Users\\Abao\\Desktop\\煎蛋网\\page54\n",
      "C:\\Users\\Abao\\Desktop\\煎蛋网\\page55\n",
      "C:\\Users\\Abao\\Desktop\\煎蛋网\\page56\n",
      "C:\\Users\\Abao\\Desktop\\煎蛋网\\page57\n",
      "C:\\Users\\Abao\\Desktop\\煎蛋网\\page58\n",
      "C:\\Users\\Abao\\Desktop\\煎蛋网\\page59\n",
      "C:\\Users\\Abao\\Desktop\\煎蛋网\\page60\n",
      "C:\\Users\\Abao\\Desktop\\煎蛋网\\page61\n",
      "C:\\Users\\Abao\\Desktop\\煎蛋网\\page62\n",
      "C:\\Users\\Abao\\Desktop\\煎蛋网\\page63\n",
      "C:\\Users\\Abao\\Desktop\\煎蛋网\\page64\n",
      "C:\\Users\\Abao\\Desktop\\煎蛋网\\page65\n",
      "C:\\Users\\Abao\\Desktop\\煎蛋网\\page66\n",
      "C:\\Users\\Abao\\Desktop\\煎蛋网\\page67\n",
      "C:\\Users\\Abao\\Desktop\\煎蛋网\\page68\n",
      "C:\\Users\\Abao\\Desktop\\煎蛋网\\page69\n",
      "C:\\Users\\Abao\\Desktop\\煎蛋网\\page70\n",
      "C:\\Users\\Abao\\Desktop\\煎蛋网\\page71\n",
      "C:\\Users\\Abao\\Desktop\\煎蛋网\\page72\n",
      "C:\\Users\\Abao\\Desktop\\煎蛋网\\page73\n",
      "C:\\Users\\Abao\\Desktop\\煎蛋网\\page74\n",
      "C:\\Users\\Abao\\Desktop\\煎蛋网\\page75\n",
      "C:\\Users\\Abao\\Desktop\\煎蛋网\\page76\n",
      "C:\\Users\\Abao\\Desktop\\煎蛋网\\page77\n",
      "C:\\Users\\Abao\\Desktop\\煎蛋网\\page78\n",
      "C:\\Users\\Abao\\Desktop\\煎蛋网\\page79\n",
      "C:\\Users\\Abao\\Desktop\\煎蛋网\\page80\n",
      "C:\\Users\\Abao\\Desktop\\煎蛋网\\page81\n",
      "C:\\Users\\Abao\\Desktop\\煎蛋网\\page82\n",
      "C:\\Users\\Abao\\Desktop\\煎蛋网\\page83\n",
      "C:\\Users\\Abao\\Desktop\\煎蛋网\\page84\n",
      "C:\\Users\\Abao\\Desktop\\煎蛋网\\page85\n",
      "C:\\Users\\Abao\\Desktop\\煎蛋网\\page86\n",
      "C:\\Users\\Abao\\Desktop\\煎蛋网\\page87\n",
      "C:\\Users\\Abao\\Desktop\\煎蛋网\\page88\n",
      "C:\\Users\\Abao\\Desktop\\煎蛋网\\page89\n",
      "C:\\Users\\Abao\\Desktop\\煎蛋网\\page90\n",
      "C:\\Users\\Abao\\Desktop\\煎蛋网\\page91\n",
      "C:\\Users\\Abao\\Desktop\\煎蛋网\\page92\n",
      "C:\\Users\\Abao\\Desktop\\煎蛋网\\page93\n",
      "C:\\Users\\Abao\\Desktop\\煎蛋网\\page94\n",
      "C:\\Users\\Abao\\Desktop\\煎蛋网\\page95\n",
      "C:\\Users\\Abao\\Desktop\\煎蛋网\\page96\n",
      "C:\\Users\\Abao\\Desktop\\煎蛋网\\page97\n",
      "C:\\Users\\Abao\\Desktop\\煎蛋网\\page98\n",
      "C:\\Users\\Abao\\Desktop\\煎蛋网\\page99\n",
      "C:\\Users\\Abao\\Desktop\\煎蛋网\\page100\n"
     ]
    }
   ],
   "source": [
    "import os\n",
    "folder = r\"C:\\Users\\Abao\\Desktop\\煎蛋网\"\n",
    "for pageNum in range(1,101):\n",
    "    pageSign=\"\\\\page%d\"%pageNum\n",
    "    newpage=folder+pageSign\n",
    "    print(newpage)"
   ]
  }
 ],
 "metadata": {
  "kernelspec": {
   "display_name": "Python 3",
   "language": "python",
   "name": "python3"
  },
  "language_info": {
   "codemirror_mode": {
    "name": "ipython",
    "version": 3
   },
   "file_extension": ".py",
   "mimetype": "text/x-python",
   "name": "python",
   "nbconvert_exporter": "python",
   "pygments_lexer": "ipython3",
   "version": "3.6.1"
  }
 },
 "nbformat": 4,
 "nbformat_minor": 2
}
